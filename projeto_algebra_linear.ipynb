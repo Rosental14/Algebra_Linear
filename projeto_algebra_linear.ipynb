{
 "cells": [
  {
   "cell_type": "markdown",
   "metadata": {},
   "source": [
    "# Statement"
   ]
  },
  {
   "cell_type": "markdown",
   "metadata": {},
   "source": [
    "A companhia de seguros Proteja Seu Amanhã quer resolver algumas tarefas com a ajuda de aprendizado de máquina e você precisa avaliar a possibilidade de fazê-lo.\n",
    "\n",
    "- Tarefa 1: Encontrar clientes semelhantes a um determinado cliente. Isso vai ajudar os agentes da empresa com tarefas de marketing.\n",
    "- Tarefa 2: Predizer se um novo cliente provavelmente receberá um pagamento de seguro. Um modelo de predição pode ser melhor do que um modelo dummy?\n",
    "- Tarefa 3: Predizer o número de pagamentos de seguro que um novo cliente provavelmente receberá usando um modelo de regressão linear.\n",
    "- Tarefa 4: Proteger os dados pessoais dos clientes sem estragar o modelo da tarefa anterior. É necessário desenvolver um algoritmo de transformação de dados que tornaria difícil recuperar informações pessoais se os dados caíssem nas mãos erradas. Isso é chamado de mascaramento de dados ou ofuscação de dados. Mas os dados devem ser protegidos de forma que a qualidade dos modelos de aprendizado de máquina não piore. Você não precisa escolher o melhor modelo, só prove que o algoritmo funciona corretamente."
   ]
  },
  {
   "cell_type": "markdown",
   "metadata": {},
   "source": [
    "# Pré-processamento de dados & Exploração\n",
    "\n",
    "## Inicialização"
   ]
  },
  {
   "cell_type": "code",
   "execution_count": 7,
   "metadata": {},
   "outputs": [
    {
     "name": "stdout",
     "output_type": "stream",
     "text": [
      "Requirement already satisfied: scikit-learn in c:\\users\\renan\\appdata\\local\\packages\\pythonsoftwarefoundation.python.3.12_qbz5n2kfra8p0\\localcache\\local-packages\\python312\\site-packages (1.5.1)\n",
      "Requirement already satisfied: numpy>=1.19.5 in c:\\users\\renan\\appdata\\local\\packages\\pythonsoftwarefoundation.python.3.12_qbz5n2kfra8p0\\localcache\\local-packages\\python312\\site-packages (from scikit-learn) (1.26.4)\n",
      "Requirement already satisfied: scipy>=1.6.0 in c:\\users\\renan\\appdata\\local\\packages\\pythonsoftwarefoundation.python.3.12_qbz5n2kfra8p0\\localcache\\local-packages\\python312\\site-packages (from scikit-learn) (1.13.1)\n",
      "Requirement already satisfied: joblib>=1.2.0 in c:\\users\\renan\\appdata\\local\\packages\\pythonsoftwarefoundation.python.3.12_qbz5n2kfra8p0\\localcache\\local-packages\\python312\\site-packages (from scikit-learn) (1.4.2)\n",
      "Requirement already satisfied: threadpoolctl>=3.1.0 in c:\\users\\renan\\appdata\\local\\packages\\pythonsoftwarefoundation.python.3.12_qbz5n2kfra8p0\\localcache\\local-packages\\python312\\site-packages (from scikit-learn) (3.5.0)\n"
     ]
    },
    {
     "name": "stderr",
     "output_type": "stream",
     "text": [
      "\n",
      "[notice] A new release of pip is available: 24.1 -> 24.1.2\n",
      "[notice] To update, run: C:\\Users\\renan\\AppData\\Local\\Microsoft\\WindowsApps\\PythonSoftwareFoundation.Python.3.12_qbz5n2kfra8p0\\python.exe -m pip install --upgrade pip\n"
     ]
    }
   ],
   "source": [
    "!pip install scikit-learn --upgrade --user"
   ]
  },
  {
   "cell_type": "code",
   "execution_count": 8,
   "metadata": {},
   "outputs": [],
   "source": [
    "import numpy as np\n",
    "import pandas as pd\n",
    "\n",
    "import seaborn as sns\n",
    "import matplotlib.pyplot as plt\n",
    "import math\n",
    "\n",
    "import sklearn.linear_model\n",
    "import sklearn.metrics\n",
    "import sklearn.neighbors\n",
    "import sklearn.preprocessing\n",
    "\n",
    "from sklearn.model_selection import train_test_split\n",
    "from sklearn.neighbors import KNeighborsClassifier\n",
    "\n",
    "from IPython.display import display"
   ]
  },
  {
   "cell_type": "markdown",
   "metadata": {},
   "source": [
    "## Carregar Dados"
   ]
  },
  {
   "cell_type": "markdown",
   "metadata": {},
   "source": [
    "Carregue os dados e faça uma verificação básica de que estão livres de problemas óbvios."
   ]
  },
  {
   "cell_type": "code",
   "execution_count": 9,
   "metadata": {},
   "outputs": [],
   "source": [
    "df = pd.read_csv('./datasets/insurance_us.csv')"
   ]
  },
  {
   "cell_type": "markdown",
   "metadata": {},
   "source": [
    "Renomeamos as colunas para tornar o código mais consistente com seu estilo."
   ]
  },
  {
   "cell_type": "code",
   "execution_count": 10,
   "metadata": {},
   "outputs": [],
   "source": [
    "df = df.rename(columns={'Gender': 'gender', 'Age': 'age', 'Salary': 'income', 'Family members': 'family_members', 'Insurance benefits': 'insurance_benefits'})"
   ]
  },
  {
   "cell_type": "code",
   "execution_count": 11,
   "metadata": {},
   "outputs": [
    {
     "data": {
      "text/html": [
       "<div>\n",
       "<style scoped>\n",
       "    .dataframe tbody tr th:only-of-type {\n",
       "        vertical-align: middle;\n",
       "    }\n",
       "\n",
       "    .dataframe tbody tr th {\n",
       "        vertical-align: top;\n",
       "    }\n",
       "\n",
       "    .dataframe thead th {\n",
       "        text-align: right;\n",
       "    }\n",
       "</style>\n",
       "<table border=\"1\" class=\"dataframe\">\n",
       "  <thead>\n",
       "    <tr style=\"text-align: right;\">\n",
       "      <th></th>\n",
       "      <th>gender</th>\n",
       "      <th>age</th>\n",
       "      <th>income</th>\n",
       "      <th>family_members</th>\n",
       "      <th>insurance_benefits</th>\n",
       "    </tr>\n",
       "  </thead>\n",
       "  <tbody>\n",
       "    <tr>\n",
       "      <th>4532</th>\n",
       "      <td>0</td>\n",
       "      <td>30.0</td>\n",
       "      <td>40400.0</td>\n",
       "      <td>0</td>\n",
       "      <td>0</td>\n",
       "    </tr>\n",
       "    <tr>\n",
       "      <th>217</th>\n",
       "      <td>1</td>\n",
       "      <td>29.0</td>\n",
       "      <td>45600.0</td>\n",
       "      <td>1</td>\n",
       "      <td>0</td>\n",
       "    </tr>\n",
       "    <tr>\n",
       "      <th>1589</th>\n",
       "      <td>1</td>\n",
       "      <td>35.0</td>\n",
       "      <td>23000.0</td>\n",
       "      <td>1</td>\n",
       "      <td>0</td>\n",
       "    </tr>\n",
       "    <tr>\n",
       "      <th>2299</th>\n",
       "      <td>0</td>\n",
       "      <td>44.0</td>\n",
       "      <td>24600.0</td>\n",
       "      <td>3</td>\n",
       "      <td>1</td>\n",
       "    </tr>\n",
       "    <tr>\n",
       "      <th>1648</th>\n",
       "      <td>0</td>\n",
       "      <td>18.0</td>\n",
       "      <td>36800.0</td>\n",
       "      <td>1</td>\n",
       "      <td>0</td>\n",
       "    </tr>\n",
       "    <tr>\n",
       "      <th>4305</th>\n",
       "      <td>1</td>\n",
       "      <td>41.0</td>\n",
       "      <td>46500.0</td>\n",
       "      <td>1</td>\n",
       "      <td>0</td>\n",
       "    </tr>\n",
       "    <tr>\n",
       "      <th>4472</th>\n",
       "      <td>0</td>\n",
       "      <td>25.0</td>\n",
       "      <td>43000.0</td>\n",
       "      <td>5</td>\n",
       "      <td>0</td>\n",
       "    </tr>\n",
       "    <tr>\n",
       "      <th>2551</th>\n",
       "      <td>1</td>\n",
       "      <td>33.0</td>\n",
       "      <td>33400.0</td>\n",
       "      <td>1</td>\n",
       "      <td>0</td>\n",
       "    </tr>\n",
       "    <tr>\n",
       "      <th>3973</th>\n",
       "      <td>0</td>\n",
       "      <td>27.0</td>\n",
       "      <td>29400.0</td>\n",
       "      <td>1</td>\n",
       "      <td>0</td>\n",
       "    </tr>\n",
       "    <tr>\n",
       "      <th>2353</th>\n",
       "      <td>0</td>\n",
       "      <td>19.0</td>\n",
       "      <td>51000.0</td>\n",
       "      <td>0</td>\n",
       "      <td>0</td>\n",
       "    </tr>\n",
       "  </tbody>\n",
       "</table>\n",
       "</div>"
      ],
      "text/plain": [
       "      gender   age   income  family_members  insurance_benefits\n",
       "4532       0  30.0  40400.0               0                   0\n",
       "217        1  29.0  45600.0               1                   0\n",
       "1589       1  35.0  23000.0               1                   0\n",
       "2299       0  44.0  24600.0               3                   1\n",
       "1648       0  18.0  36800.0               1                   0\n",
       "4305       1  41.0  46500.0               1                   0\n",
       "4472       0  25.0  43000.0               5                   0\n",
       "2551       1  33.0  33400.0               1                   0\n",
       "3973       0  27.0  29400.0               1                   0\n",
       "2353       0  19.0  51000.0               0                   0"
      ]
     },
     "execution_count": 11,
     "metadata": {},
     "output_type": "execute_result"
    }
   ],
   "source": [
    "df.sample(10)"
   ]
  },
  {
   "cell_type": "code",
   "execution_count": 12,
   "metadata": {},
   "outputs": [
    {
     "name": "stdout",
     "output_type": "stream",
     "text": [
      "<class 'pandas.core.frame.DataFrame'>\n",
      "RangeIndex: 5000 entries, 0 to 4999\n",
      "Data columns (total 5 columns):\n",
      " #   Column              Non-Null Count  Dtype  \n",
      "---  ------              --------------  -----  \n",
      " 0   gender              5000 non-null   int64  \n",
      " 1   age                 5000 non-null   float64\n",
      " 2   income              5000 non-null   float64\n",
      " 3   family_members      5000 non-null   int64  \n",
      " 4   insurance_benefits  5000 non-null   int64  \n",
      "dtypes: float64(2), int64(3)\n",
      "memory usage: 195.4 KB\n"
     ]
    }
   ],
   "source": [
    "df.info()"
   ]
  },
  {
   "cell_type": "code",
   "execution_count": 13,
   "metadata": {},
   "outputs": [],
   "source": [
    "#corrigindo o tipo de dados de idade (de float para int)\n",
    "df['age'] = df['age'].astype('int')"
   ]
  },
  {
   "cell_type": "code",
   "execution_count": 14,
   "metadata": {},
   "outputs": [
    {
     "name": "stdout",
     "output_type": "stream",
     "text": [
      "gender                  int64\n",
      "age                     int32\n",
      "income                float64\n",
      "family_members          int64\n",
      "insurance_benefits      int64\n",
      "dtype: object\n"
     ]
    }
   ],
   "source": [
    "# verificando se a conversão foi bem-sucedida\n",
    "print(df.dtypes)"
   ]
  },
  {
   "cell_type": "code",
   "execution_count": 15,
   "metadata": {},
   "outputs": [
    {
     "data": {
      "text/html": [
       "<div>\n",
       "<style scoped>\n",
       "    .dataframe tbody tr th:only-of-type {\n",
       "        vertical-align: middle;\n",
       "    }\n",
       "\n",
       "    .dataframe tbody tr th {\n",
       "        vertical-align: top;\n",
       "    }\n",
       "\n",
       "    .dataframe thead th {\n",
       "        text-align: right;\n",
       "    }\n",
       "</style>\n",
       "<table border=\"1\" class=\"dataframe\">\n",
       "  <thead>\n",
       "    <tr style=\"text-align: right;\">\n",
       "      <th></th>\n",
       "      <th>gender</th>\n",
       "      <th>age</th>\n",
       "      <th>income</th>\n",
       "      <th>family_members</th>\n",
       "      <th>insurance_benefits</th>\n",
       "    </tr>\n",
       "  </thead>\n",
       "  <tbody>\n",
       "    <tr>\n",
       "      <th>count</th>\n",
       "      <td>5000.000000</td>\n",
       "      <td>5000.000000</td>\n",
       "      <td>5000.000000</td>\n",
       "      <td>5000.000000</td>\n",
       "      <td>5000.000000</td>\n",
       "    </tr>\n",
       "    <tr>\n",
       "      <th>mean</th>\n",
       "      <td>0.499000</td>\n",
       "      <td>30.952800</td>\n",
       "      <td>39916.360000</td>\n",
       "      <td>1.194200</td>\n",
       "      <td>0.148000</td>\n",
       "    </tr>\n",
       "    <tr>\n",
       "      <th>std</th>\n",
       "      <td>0.500049</td>\n",
       "      <td>8.440807</td>\n",
       "      <td>9900.083569</td>\n",
       "      <td>1.091387</td>\n",
       "      <td>0.463183</td>\n",
       "    </tr>\n",
       "    <tr>\n",
       "      <th>min</th>\n",
       "      <td>0.000000</td>\n",
       "      <td>18.000000</td>\n",
       "      <td>5300.000000</td>\n",
       "      <td>0.000000</td>\n",
       "      <td>0.000000</td>\n",
       "    </tr>\n",
       "    <tr>\n",
       "      <th>25%</th>\n",
       "      <td>0.000000</td>\n",
       "      <td>24.000000</td>\n",
       "      <td>33300.000000</td>\n",
       "      <td>0.000000</td>\n",
       "      <td>0.000000</td>\n",
       "    </tr>\n",
       "    <tr>\n",
       "      <th>50%</th>\n",
       "      <td>0.000000</td>\n",
       "      <td>30.000000</td>\n",
       "      <td>40200.000000</td>\n",
       "      <td>1.000000</td>\n",
       "      <td>0.000000</td>\n",
       "    </tr>\n",
       "    <tr>\n",
       "      <th>75%</th>\n",
       "      <td>1.000000</td>\n",
       "      <td>37.000000</td>\n",
       "      <td>46600.000000</td>\n",
       "      <td>2.000000</td>\n",
       "      <td>0.000000</td>\n",
       "    </tr>\n",
       "    <tr>\n",
       "      <th>max</th>\n",
       "      <td>1.000000</td>\n",
       "      <td>65.000000</td>\n",
       "      <td>79000.000000</td>\n",
       "      <td>6.000000</td>\n",
       "      <td>5.000000</td>\n",
       "    </tr>\n",
       "  </tbody>\n",
       "</table>\n",
       "</div>"
      ],
      "text/plain": [
       "            gender          age        income  family_members  \\\n",
       "count  5000.000000  5000.000000   5000.000000     5000.000000   \n",
       "mean      0.499000    30.952800  39916.360000        1.194200   \n",
       "std       0.500049     8.440807   9900.083569        1.091387   \n",
       "min       0.000000    18.000000   5300.000000        0.000000   \n",
       "25%       0.000000    24.000000  33300.000000        0.000000   \n",
       "50%       0.000000    30.000000  40200.000000        1.000000   \n",
       "75%       1.000000    37.000000  46600.000000        2.000000   \n",
       "max       1.000000    65.000000  79000.000000        6.000000   \n",
       "\n",
       "       insurance_benefits  \n",
       "count         5000.000000  \n",
       "mean             0.148000  \n",
       "std              0.463183  \n",
       "min              0.000000  \n",
       "25%              0.000000  \n",
       "50%              0.000000  \n",
       "75%              0.000000  \n",
       "max              5.000000  "
      ]
     },
     "execution_count": 15,
     "metadata": {},
     "output_type": "execute_result"
    }
   ],
   "source": [
    "#Avaliando as estatísticas descritivas dos dados.\n",
    "df.describe()"
   ]
  },
  {
   "cell_type": "markdown",
   "metadata": {},
   "source": [
    "* A coluna 'gender' apresenta uma média de 0.499, indicando que a população está dividida praticamente na sua metade em relação aos gêneros;\n",
    "\n",
    "\n",
    "* A coluna 'age' nos mostra uma grande variação nas idades, de 18 até 65 anos. Porém, 75% dos clientes tem até 37 anos;\n",
    "\n",
    "\n",
    "* A coluna 'income' nos mostra uma variação muito grande nos salários, indo de 5300 à 79000. Porém, apenas 25% dos clientes ganham menos que 33300;\n",
    "\n",
    "\n",
    "* A coluna 'family_members' apresenta o mínimo de 0, mas não é possível que uma família tenha 0 membros, então vamos considerar que a coluna se refere a membros familiares além do próprio segurado;\n",
    "\n",
    "\n",
    "* A coluna 'ensurance_benefits' nos mostra que o cliente que mais recebeu benefícios do seguro, recebeu um total de 5 benefícios, o que é muito se comparado ao geral, pois mais de 75% dos clientes não recebeu benefício algum."
   ]
  },
  {
   "cell_type": "markdown",
   "metadata": {},
   "source": [
    "## AED"
   ]
  },
  {
   "cell_type": "markdown",
   "metadata": {},
   "source": [
    "Vamos verificar rapidamente se existem determinados grupos de clientes observando o gráfico de pares."
   ]
  },
  {
   "cell_type": "code",
   "execution_count": 16,
   "metadata": {},
   "outputs": [
    {
     "data": {
      "image/png": "[encoded data removed]",
      "text/plain": [
       "<Figure size 1200x1200 with 30 Axes>"
      ]
     },
     "metadata": {},
     "output_type": "display_data"
    }
   ],
   "source": [
    "g = sns.pairplot(df, kind='hist')\n",
    "g.fig.set_size_inches(12, 12)"
   ]
  },
  {
   "cell_type": "markdown",
   "metadata": {},
   "source": [
    "É um pouco difícil identificar grupos óbvios (clusters), pois é difícil combinar várias variáveis simultaneamente (para analisar distribuições multivariadas). É aí que Álgebra Linear e Aprendizado de Máquina podem ser bastante úteis."
   ]
  },
  {
   "cell_type": "markdown",
   "metadata": {},
   "source": [
    "# Tarefa 1. Clientes Similares"
   ]
  },
  {
   "cell_type": "markdown",
   "metadata": {},
   "source": [
    "Na linguagem de AM, é necessário desenvolver um procedimento que retorne k vizinhos mais próximos (objetos) para um determinado objeto com base na distância entre os objetos.\n",
    "Você pode querer rever as seguintes lições (capítulo -> lição)\n",
    "- Distância Entre Vetores -> Distância Euclidiana\n",
    "- Distância Entre Vetores -> Distância de Manhattan\n",
    "\n",
    "Para resolver a tarefa, podemos tentar diferentes métricas de distância."
   ]
  },
  {
   "cell_type": "markdown",
   "metadata": {},
   "source": [
    "Escreva uma função que retorne k vizinhos mais próximos para um n-ésimo objeto com base em uma métrica de distância especificada. O número de pagamentos de seguro recebidos não deve ser levado em consideração para esta tarefa. \n",
    "\n",
    "Você pode usar uma implementação pronta do algoritmo kNN do scikit-learn (verifique [o link](https://scikit-learn.org/stable/modules/generated/sklearn.neighbors.NearestNeighbors.html#sklearn.neighbors.NearestNeighbors)) ou usar a sua própria.\n",
    "Teste-o para quatro combinações de dois casos\n",
    "- Escalabilidade\n",
    "  - os dados não são escalados\n",
    "  - os dados escalados com o escalonador [MaxAbsScaler](https://scikit-learn.org/stable/modules/generated/sklearn.preprocessing.MaxAbsScaler.html) \n",
    "- Métricas de distância\n",
    "  - Euclidiana\n",
    "  - Manhattan\n",
    "\n",
    "Responda às perguntas:\n",
    "- Os dados não escalados afetam o algoritmo kNN? Se sim, como isso acontece?\n",
    "-Quão semelhantes são os resultados usando a métrica de distância de Manhattan (independentemente da escalabilidade)?"
   ]
  },
  {
   "cell_type": "code",
   "execution_count": 17,
   "metadata": {},
   "outputs": [],
   "source": [
    "feature_names = ['gender', 'age', 'income', 'family_members']"
   ]
  },
  {
   "cell_type": "code",
   "execution_count": 18,
   "metadata": {},
   "outputs": [],
   "source": [
    "def get_knn(df, n, k, metric):\n",
    "    \n",
    "    \"\"\"\n",
    "    Retorna os vizinhos mais próximos de k\n",
    "\n",
    "    :param df: DataFrame pandas usado para encontrar objetos semelhantes dentro de\n",
    "    :param n: número do objeto pelo qual os vizinhos mais próximos são procurados\n",
    "    :param k: o número dos vizinhos mais próximos a serem retornados\n",
    "    :param metric: nome da métrica de distância    \"\"\"\n",
    "\n",
    "    nbrs = sklearn.neighbors.NearestNeighbors(n_neighbors = k, metric = metric)\n",
    "    nbrs.fit(df[feature_names])\n",
    "    \n",
    "    nbrs_distances, nbrs_indices = nbrs.kneighbors([df.iloc[n][feature_names]], return_distance=True)\n",
    "    \n",
    "    df_res = pd.concat([\n",
    "        df.iloc[nbrs_indices[0]], \n",
    "        pd.DataFrame(nbrs_distances.T, index=nbrs_indices[0], columns=['distance'])\n",
    "        ], axis=1)\n",
    "    \n",
    "    return df_res\n"
   ]
  },
  {
   "cell_type": "markdown",
   "metadata": {},
   "source": [
    "Escalando os dados"
   ]
  },
  {
   "cell_type": "code",
   "execution_count": 19,
   "metadata": {},
   "outputs": [
    {
     "name": "stderr",
     "output_type": "stream",
     "text": [
      "C:\\Users\\renan\\AppData\\Local\\Temp\\ipykernel_6996\\760832288.py:6: FutureWarning: Setting an item of incompatible dtype is deprecated and will raise in a future error of pandas. Value '[0.63076923 0.70769231 0.44615385 ... 0.30769231 0.33846154 0.43076923]' has dtype incompatible with int32, please explicitly cast to a compatible dtype first.\n",
      "  df_scaled.loc[:, feature_names] = transformer_mas.transform(df[feature_names].to_numpy())\n",
      "C:\\Users\\renan\\AppData\\Local\\Temp\\ipykernel_6996\\760832288.py:6: FutureWarning: Setting an item of incompatible dtype is deprecated and will raise in a future error of pandas. Value '[0.16666667 0.16666667 0.         ... 0.33333333 0.5        0.16666667]' has dtype incompatible with int64, please explicitly cast to a compatible dtype first.\n",
      "  df_scaled.loc[:, feature_names] = transformer_mas.transform(df[feature_names].to_numpy())\n"
     ]
    }
   ],
   "source": [
    "feature_names = ['gender', 'age', 'income', 'family_members']\n",
    "\n",
    "transformer_mas = sklearn.preprocessing.MaxAbsScaler().fit(df[feature_names].to_numpy())\n",
    "\n",
    "df_scaled = df.copy()\n",
    "df_scaled.loc[:, feature_names] = transformer_mas.transform(df[feature_names].to_numpy())"
   ]
  },
  {
   "cell_type": "code",
   "execution_count": 20,
   "metadata": {},
   "outputs": [
    {
     "data": {
      "text/html": [
       "<div>\n",
       "<style scoped>\n",
       "    .dataframe tbody tr th:only-of-type {\n",
       "        vertical-align: middle;\n",
       "    }\n",
       "\n",
       "    .dataframe tbody tr th {\n",
       "        vertical-align: top;\n",
       "    }\n",
       "\n",
       "    .dataframe thead th {\n",
       "        text-align: right;\n",
       "    }\n",
       "</style>\n",
       "<table border=\"1\" class=\"dataframe\">\n",
       "  <thead>\n",
       "    <tr style=\"text-align: right;\">\n",
       "      <th></th>\n",
       "      <th>gender</th>\n",
       "      <th>age</th>\n",
       "      <th>income</th>\n",
       "      <th>family_members</th>\n",
       "      <th>insurance_benefits</th>\n",
       "    </tr>\n",
       "  </thead>\n",
       "  <tbody>\n",
       "    <tr>\n",
       "      <th>3554</th>\n",
       "      <td>0</td>\n",
       "      <td>0.446154</td>\n",
       "      <td>0.546835</td>\n",
       "      <td>0.000000</td>\n",
       "      <td>0</td>\n",
       "    </tr>\n",
       "    <tr>\n",
       "      <th>4192</th>\n",
       "      <td>0</td>\n",
       "      <td>0.338462</td>\n",
       "      <td>0.705063</td>\n",
       "      <td>0.000000</td>\n",
       "      <td>0</td>\n",
       "    </tr>\n",
       "    <tr>\n",
       "      <th>4423</th>\n",
       "      <td>1</td>\n",
       "      <td>0.415385</td>\n",
       "      <td>0.586076</td>\n",
       "      <td>0.000000</td>\n",
       "      <td>0</td>\n",
       "    </tr>\n",
       "    <tr>\n",
       "      <th>1034</th>\n",
       "      <td>0</td>\n",
       "      <td>0.384615</td>\n",
       "      <td>0.244304</td>\n",
       "      <td>0.500000</td>\n",
       "      <td>0</td>\n",
       "    </tr>\n",
       "    <tr>\n",
       "      <th>2642</th>\n",
       "      <td>1</td>\n",
       "      <td>0.553846</td>\n",
       "      <td>0.462025</td>\n",
       "      <td>0.333333</td>\n",
       "      <td>0</td>\n",
       "    </tr>\n",
       "  </tbody>\n",
       "</table>\n",
       "</div>"
      ],
      "text/plain": [
       "      gender       age    income  family_members  insurance_benefits\n",
       "3554       0  0.446154  0.546835        0.000000                   0\n",
       "4192       0  0.338462  0.705063        0.000000                   0\n",
       "4423       1  0.415385  0.586076        0.000000                   0\n",
       "1034       0  0.384615  0.244304        0.500000                   0\n",
       "2642       1  0.553846  0.462025        0.333333                   0"
      ]
     },
     "execution_count": 20,
     "metadata": {},
     "output_type": "execute_result"
    }
   ],
   "source": [
    "df_scaled.sample(5)"
   ]
  },
  {
   "cell_type": "markdown",
   "metadata": {},
   "source": [
    "Agora, vamos obter registros semelhantes para um determinado registro para cada combinação"
   ]
  },
  {
   "cell_type": "code",
   "execution_count": 21,
   "metadata": {},
   "outputs": [
    {
     "name": "stderr",
     "output_type": "stream",
     "text": [
      "C:\\Users\\renan\\AppData\\Local\\Packages\\PythonSoftwareFoundation.Python.3.12_qbz5n2kfra8p0\\LocalCache\\local-packages\\Python312\\site-packages\\sklearn\\base.py:493: UserWarning: X does not have valid feature names, but NearestNeighbors was fitted with feature names\n",
      "  warnings.warn(\n"
     ]
    },
    {
     "data": {
      "text/html": [
       "<div>\n",
       "<style scoped>\n",
       "    .dataframe tbody tr th:only-of-type {\n",
       "        vertical-align: middle;\n",
       "    }\n",
       "\n",
       "    .dataframe tbody tr th {\n",
       "        vertical-align: top;\n",
       "    }\n",
       "\n",
       "    .dataframe thead th {\n",
       "        text-align: right;\n",
       "    }\n",
       "</style>\n",
       "<table border=\"1\" class=\"dataframe\">\n",
       "  <thead>\n",
       "    <tr style=\"text-align: right;\">\n",
       "      <th></th>\n",
       "      <th>gender</th>\n",
       "      <th>age</th>\n",
       "      <th>income</th>\n",
       "      <th>family_members</th>\n",
       "      <th>insurance_benefits</th>\n",
       "      <th>distance</th>\n",
       "    </tr>\n",
       "  </thead>\n",
       "  <tbody>\n",
       "    <tr>\n",
       "      <th>0</th>\n",
       "      <td>1</td>\n",
       "      <td>41</td>\n",
       "      <td>49600.0</td>\n",
       "      <td>1</td>\n",
       "      <td>0</td>\n",
       "      <td>0.000000</td>\n",
       "    </tr>\n",
       "    <tr>\n",
       "      <th>2022</th>\n",
       "      <td>1</td>\n",
       "      <td>41</td>\n",
       "      <td>49600.0</td>\n",
       "      <td>0</td>\n",
       "      <td>0</td>\n",
       "      <td>1.000000</td>\n",
       "    </tr>\n",
       "    <tr>\n",
       "      <th>1225</th>\n",
       "      <td>0</td>\n",
       "      <td>42</td>\n",
       "      <td>49600.0</td>\n",
       "      <td>0</td>\n",
       "      <td>1</td>\n",
       "      <td>1.732051</td>\n",
       "    </tr>\n",
       "    <tr>\n",
       "      <th>4031</th>\n",
       "      <td>1</td>\n",
       "      <td>44</td>\n",
       "      <td>49600.0</td>\n",
       "      <td>2</td>\n",
       "      <td>1</td>\n",
       "      <td>3.162278</td>\n",
       "    </tr>\n",
       "    <tr>\n",
       "      <th>3424</th>\n",
       "      <td>0</td>\n",
       "      <td>38</td>\n",
       "      <td>49600.0</td>\n",
       "      <td>0</td>\n",
       "      <td>0</td>\n",
       "      <td>3.316625</td>\n",
       "    </tr>\n",
       "  </tbody>\n",
       "</table>\n",
       "</div>"
      ],
      "text/plain": [
       "      gender  age   income  family_members  insurance_benefits  distance\n",
       "0          1   41  49600.0               1                   0  0.000000\n",
       "2022       1   41  49600.0               0                   0  1.000000\n",
       "1225       0   42  49600.0               0                   1  1.732051\n",
       "4031       1   44  49600.0               2                   1  3.162278\n",
       "3424       0   38  49600.0               0                   0  3.316625"
      ]
     },
     "execution_count": 21,
     "metadata": {},
     "output_type": "execute_result"
    }
   ],
   "source": [
    "#df e euclidean\n",
    "df_euclidean = get_knn(df, 0, 5, 'euclidean')\n",
    "\n",
    "df_euclidean"
   ]
  },
  {
   "cell_type": "code",
   "execution_count": 22,
   "metadata": {},
   "outputs": [
    {
     "name": "stderr",
     "output_type": "stream",
     "text": [
      "C:\\Users\\renan\\AppData\\Local\\Packages\\PythonSoftwareFoundation.Python.3.12_qbz5n2kfra8p0\\LocalCache\\local-packages\\Python312\\site-packages\\sklearn\\base.py:493: UserWarning: X does not have valid feature names, but NearestNeighbors was fitted with feature names\n",
      "  warnings.warn(\n"
     ]
    },
    {
     "data": {
      "text/html": [
       "<div>\n",
       "<style scoped>\n",
       "    .dataframe tbody tr th:only-of-type {\n",
       "        vertical-align: middle;\n",
       "    }\n",
       "\n",
       "    .dataframe tbody tr th {\n",
       "        vertical-align: top;\n",
       "    }\n",
       "\n",
       "    .dataframe thead th {\n",
       "        text-align: right;\n",
       "    }\n",
       "</style>\n",
       "<table border=\"1\" class=\"dataframe\">\n",
       "  <thead>\n",
       "    <tr style=\"text-align: right;\">\n",
       "      <th></th>\n",
       "      <th>gender</th>\n",
       "      <th>age</th>\n",
       "      <th>income</th>\n",
       "      <th>family_members</th>\n",
       "      <th>insurance_benefits</th>\n",
       "      <th>distance</th>\n",
       "    </tr>\n",
       "  </thead>\n",
       "  <tbody>\n",
       "    <tr>\n",
       "      <th>0</th>\n",
       "      <td>1</td>\n",
       "      <td>0.630769</td>\n",
       "      <td>0.627848</td>\n",
       "      <td>0.166667</td>\n",
       "      <td>0</td>\n",
       "      <td>0.000000</td>\n",
       "    </tr>\n",
       "    <tr>\n",
       "      <th>2689</th>\n",
       "      <td>1</td>\n",
       "      <td>0.630769</td>\n",
       "      <td>0.634177</td>\n",
       "      <td>0.166667</td>\n",
       "      <td>0</td>\n",
       "      <td>0.006329</td>\n",
       "    </tr>\n",
       "    <tr>\n",
       "      <th>133</th>\n",
       "      <td>1</td>\n",
       "      <td>0.615385</td>\n",
       "      <td>0.636709</td>\n",
       "      <td>0.166667</td>\n",
       "      <td>0</td>\n",
       "      <td>0.017754</td>\n",
       "    </tr>\n",
       "    <tr>\n",
       "      <th>4869</th>\n",
       "      <td>1</td>\n",
       "      <td>0.646154</td>\n",
       "      <td>0.637975</td>\n",
       "      <td>0.166667</td>\n",
       "      <td>1</td>\n",
       "      <td>0.018418</td>\n",
       "    </tr>\n",
       "    <tr>\n",
       "      <th>3275</th>\n",
       "      <td>1</td>\n",
       "      <td>0.646154</td>\n",
       "      <td>0.651899</td>\n",
       "      <td>0.166667</td>\n",
       "      <td>1</td>\n",
       "      <td>0.028550</td>\n",
       "    </tr>\n",
       "  </tbody>\n",
       "</table>\n",
       "</div>"
      ],
      "text/plain": [
       "      gender       age    income  family_members  insurance_benefits  distance\n",
       "0          1  0.630769  0.627848        0.166667                   0  0.000000\n",
       "2689       1  0.630769  0.634177        0.166667                   0  0.006329\n",
       "133        1  0.615385  0.636709        0.166667                   0  0.017754\n",
       "4869       1  0.646154  0.637975        0.166667                   1  0.018418\n",
       "3275       1  0.646154  0.651899        0.166667                   1  0.028550"
      ]
     },
     "execution_count": 22,
     "metadata": {},
     "output_type": "execute_result"
    }
   ],
   "source": [
    "#df_scaled e euclidian\n",
    "df_scaled_euclidean = get_knn(df_scaled, 0, 5, 'euclidean')\n",
    "\n",
    "df_scaled_euclidean"
   ]
  },
  {
   "cell_type": "code",
   "execution_count": 23,
   "metadata": {},
   "outputs": [
    {
     "name": "stderr",
     "output_type": "stream",
     "text": [
      "C:\\Users\\renan\\AppData\\Local\\Packages\\PythonSoftwareFoundation.Python.3.12_qbz5n2kfra8p0\\LocalCache\\local-packages\\Python312\\site-packages\\sklearn\\base.py:493: UserWarning: X does not have valid feature names, but NearestNeighbors was fitted with feature names\n",
      "  warnings.warn(\n"
     ]
    },
    {
     "data": {
      "text/html": [
       "<div>\n",
       "<style scoped>\n",
       "    .dataframe tbody tr th:only-of-type {\n",
       "        vertical-align: middle;\n",
       "    }\n",
       "\n",
       "    .dataframe tbody tr th {\n",
       "        vertical-align: top;\n",
       "    }\n",
       "\n",
       "    .dataframe thead th {\n",
       "        text-align: right;\n",
       "    }\n",
       "</style>\n",
       "<table border=\"1\" class=\"dataframe\">\n",
       "  <thead>\n",
       "    <tr style=\"text-align: right;\">\n",
       "      <th></th>\n",
       "      <th>gender</th>\n",
       "      <th>age</th>\n",
       "      <th>income</th>\n",
       "      <th>family_members</th>\n",
       "      <th>insurance_benefits</th>\n",
       "      <th>distance</th>\n",
       "    </tr>\n",
       "  </thead>\n",
       "  <tbody>\n",
       "    <tr>\n",
       "      <th>0</th>\n",
       "      <td>1</td>\n",
       "      <td>41</td>\n",
       "      <td>49600.0</td>\n",
       "      <td>1</td>\n",
       "      <td>0</td>\n",
       "      <td>0.0</td>\n",
       "    </tr>\n",
       "    <tr>\n",
       "      <th>2022</th>\n",
       "      <td>1</td>\n",
       "      <td>41</td>\n",
       "      <td>49600.0</td>\n",
       "      <td>0</td>\n",
       "      <td>0</td>\n",
       "      <td>1.0</td>\n",
       "    </tr>\n",
       "    <tr>\n",
       "      <th>1225</th>\n",
       "      <td>0</td>\n",
       "      <td>42</td>\n",
       "      <td>49600.0</td>\n",
       "      <td>0</td>\n",
       "      <td>1</td>\n",
       "      <td>3.0</td>\n",
       "    </tr>\n",
       "    <tr>\n",
       "      <th>4031</th>\n",
       "      <td>1</td>\n",
       "      <td>44</td>\n",
       "      <td>49600.0</td>\n",
       "      <td>2</td>\n",
       "      <td>1</td>\n",
       "      <td>4.0</td>\n",
       "    </tr>\n",
       "    <tr>\n",
       "      <th>815</th>\n",
       "      <td>1</td>\n",
       "      <td>37</td>\n",
       "      <td>49600.0</td>\n",
       "      <td>2</td>\n",
       "      <td>0</td>\n",
       "      <td>5.0</td>\n",
       "    </tr>\n",
       "  </tbody>\n",
       "</table>\n",
       "</div>"
      ],
      "text/plain": [
       "      gender  age   income  family_members  insurance_benefits  distance\n",
       "0          1   41  49600.0               1                   0       0.0\n",
       "2022       1   41  49600.0               0                   0       1.0\n",
       "1225       0   42  49600.0               0                   1       3.0\n",
       "4031       1   44  49600.0               2                   1       4.0\n",
       "815        1   37  49600.0               2                   0       5.0"
      ]
     },
     "execution_count": 23,
     "metadata": {},
     "output_type": "execute_result"
    }
   ],
   "source": [
    "#df e manhattan\n",
    "df_manhattan = get_knn(df, 0, 5, 'manhattan')\n",
    "\n",
    "df_manhattan"
   ]
  },
  {
   "cell_type": "code",
   "execution_count": 24,
   "metadata": {},
   "outputs": [
    {
     "name": "stderr",
     "output_type": "stream",
     "text": [
      "C:\\Users\\renan\\AppData\\Local\\Packages\\PythonSoftwareFoundation.Python.3.12_qbz5n2kfra8p0\\LocalCache\\local-packages\\Python312\\site-packages\\sklearn\\base.py:493: UserWarning: X does not have valid feature names, but NearestNeighbors was fitted with feature names\n",
      "  warnings.warn(\n"
     ]
    },
    {
     "data": {
      "text/html": [
       "<div>\n",
       "<style scoped>\n",
       "    .dataframe tbody tr th:only-of-type {\n",
       "        vertical-align: middle;\n",
       "    }\n",
       "\n",
       "    .dataframe tbody tr th {\n",
       "        vertical-align: top;\n",
       "    }\n",
       "\n",
       "    .dataframe thead th {\n",
       "        text-align: right;\n",
       "    }\n",
       "</style>\n",
       "<table border=\"1\" class=\"dataframe\">\n",
       "  <thead>\n",
       "    <tr style=\"text-align: right;\">\n",
       "      <th></th>\n",
       "      <th>gender</th>\n",
       "      <th>age</th>\n",
       "      <th>income</th>\n",
       "      <th>family_members</th>\n",
       "      <th>insurance_benefits</th>\n",
       "      <th>distance</th>\n",
       "    </tr>\n",
       "  </thead>\n",
       "  <tbody>\n",
       "    <tr>\n",
       "      <th>0</th>\n",
       "      <td>1</td>\n",
       "      <td>0.630769</td>\n",
       "      <td>0.627848</td>\n",
       "      <td>0.166667</td>\n",
       "      <td>0</td>\n",
       "      <td>0.000000</td>\n",
       "    </tr>\n",
       "    <tr>\n",
       "      <th>2689</th>\n",
       "      <td>1</td>\n",
       "      <td>0.630769</td>\n",
       "      <td>0.634177</td>\n",
       "      <td>0.166667</td>\n",
       "      <td>0</td>\n",
       "      <td>0.006329</td>\n",
       "    </tr>\n",
       "    <tr>\n",
       "      <th>133</th>\n",
       "      <td>1</td>\n",
       "      <td>0.615385</td>\n",
       "      <td>0.636709</td>\n",
       "      <td>0.166667</td>\n",
       "      <td>0</td>\n",
       "      <td>0.024245</td>\n",
       "    </tr>\n",
       "    <tr>\n",
       "      <th>4869</th>\n",
       "      <td>1</td>\n",
       "      <td>0.646154</td>\n",
       "      <td>0.637975</td>\n",
       "      <td>0.166667</td>\n",
       "      <td>1</td>\n",
       "      <td>0.025511</td>\n",
       "    </tr>\n",
       "    <tr>\n",
       "      <th>2103</th>\n",
       "      <td>1</td>\n",
       "      <td>0.630769</td>\n",
       "      <td>0.596203</td>\n",
       "      <td>0.166667</td>\n",
       "      <td>0</td>\n",
       "      <td>0.031646</td>\n",
       "    </tr>\n",
       "  </tbody>\n",
       "</table>\n",
       "</div>"
      ],
      "text/plain": [
       "      gender       age    income  family_members  insurance_benefits  distance\n",
       "0          1  0.630769  0.627848        0.166667                   0  0.000000\n",
       "2689       1  0.630769  0.634177        0.166667                   0  0.006329\n",
       "133        1  0.615385  0.636709        0.166667                   0  0.024245\n",
       "4869       1  0.646154  0.637975        0.166667                   1  0.025511\n",
       "2103       1  0.630769  0.596203        0.166667                   0  0.031646"
      ]
     },
     "execution_count": 24,
     "metadata": {},
     "output_type": "execute_result"
    }
   ],
   "source": [
    "#df_scaled e manhattan\n",
    "df_scaled_manhattan = get_knn(df_scaled, 0, 5, 'manhattan')\n",
    "\n",
    "df_scaled_manhattan"
   ]
  },
  {
   "cell_type": "code",
   "execution_count": 25,
   "metadata": {},
   "outputs": [
    {
     "name": "stdout",
     "output_type": "stream",
     "text": [
      "As menores distâncias em cada DataFrame:\n"
     ]
    },
    {
     "data": {
      "text/html": [
       "<div>\n",
       "<style scoped>\n",
       "    .dataframe tbody tr th:only-of-type {\n",
       "        vertical-align: middle;\n",
       "    }\n",
       "\n",
       "    .dataframe tbody tr th {\n",
       "        vertical-align: top;\n",
       "    }\n",
       "\n",
       "    .dataframe thead th {\n",
       "        text-align: right;\n",
       "    }\n",
       "</style>\n",
       "<table border=\"1\" class=\"dataframe\">\n",
       "  <thead>\n",
       "    <tr style=\"text-align: right;\">\n",
       "      <th></th>\n",
       "      <th>df_euclidean</th>\n",
       "      <th>df_scaled_euclidean</th>\n",
       "      <th>df_manhattan</th>\n",
       "      <th>df_scaled_manhattan</th>\n",
       "    </tr>\n",
       "  </thead>\n",
       "  <tbody>\n",
       "    <tr>\n",
       "      <th>0</th>\n",
       "      <td>0.000000</td>\n",
       "      <td>0.000000</td>\n",
       "      <td>0.0</td>\n",
       "      <td>0.000000</td>\n",
       "    </tr>\n",
       "    <tr>\n",
       "      <th>1</th>\n",
       "      <td>1.000000</td>\n",
       "      <td>0.006329</td>\n",
       "      <td>1.0</td>\n",
       "      <td>0.006329</td>\n",
       "    </tr>\n",
       "    <tr>\n",
       "      <th>2</th>\n",
       "      <td>1.732051</td>\n",
       "      <td>0.017754</td>\n",
       "      <td>3.0</td>\n",
       "      <td>0.024245</td>\n",
       "    </tr>\n",
       "    <tr>\n",
       "      <th>3</th>\n",
       "      <td>3.162278</td>\n",
       "      <td>0.018418</td>\n",
       "      <td>4.0</td>\n",
       "      <td>0.025511</td>\n",
       "    </tr>\n",
       "    <tr>\n",
       "      <th>4</th>\n",
       "      <td>3.316625</td>\n",
       "      <td>0.028550</td>\n",
       "      <td>5.0</td>\n",
       "      <td>0.031646</td>\n",
       "    </tr>\n",
       "  </tbody>\n",
       "</table>\n",
       "</div>"
      ],
      "text/plain": [
       "   df_euclidean  df_scaled_euclidean  df_manhattan  df_scaled_manhattan\n",
       "0      0.000000             0.000000           0.0             0.000000\n",
       "1      1.000000             0.006329           1.0             0.006329\n",
       "2      1.732051             0.017754           3.0             0.024245\n",
       "3      3.162278             0.018418           4.0             0.025511\n",
       "4      3.316625             0.028550           5.0             0.031646"
      ]
     },
     "execution_count": 25,
     "metadata": {},
     "output_type": "execute_result"
    }
   ],
   "source": [
    "# Concatenar os DataFrames para apresentar os resultados de menores distâncias de forma compilada\n",
    "df_concat_distances = pd.concat(\n",
    "    [df_euclidean['distance'].reset_index(drop=True),\n",
    "     df_scaled_euclidean['distance'].reset_index(drop=True),\n",
    "    df_manhattan['distance'].reset_index(drop=True),\n",
    "    df_scaled_manhattan['distance'].reset_index(drop=True)],\n",
    "    axis='columns', ignore_index=True)\n",
    "\n",
    "df_concat_distances.columns = ['df_euclidean', 'df_scaled_euclidean', 'df_manhattan', 'df_scaled_manhattan']\n",
    "\n",
    "print('As menores distâncias em cada DataFrame:')\n",
    "df_concat_distances"
   ]
  },
  {
   "cell_type": "markdown",
   "metadata": {},
   "source": [
    "Respostas para as perguntas"
   ]
  },
  {
   "cell_type": "markdown",
   "metadata": {},
   "source": [
    "**Os dados não escalados afetam o algoritmo kNN? Se sim, como isso acontece?** \n",
    "\n",
    "Sim. Quando os dados não são previamente escalados, as distâncias são muito maiores. \n",
    "Isso se dá porque os dados não escalados podem ter características distintas em diferentes escalas, o que pode impactar a métrica de distância no KNN. No nosso caso específico, isso se dá principalmente pela característica 'income' que possui valores muito altos se comparados aos valores das demais características."
   ]
  },
  {
   "cell_type": "markdown",
   "metadata": {},
   "source": [
    "**Quão semelhantes são os resultados usando a métrica de distância de Manhattan (independentemente da escalabilidade)?** \n",
    "\n",
    "As distâncias quando utilizada a métrica da distância de Manhattan são sempre um número inteiro.\n",
    "Isso ocorre porque essa métrica é a soma das diferenças absolutas entre as coordenadas correspondentes dos pontos e, se as coordenadas são números inteiros, a diferença absoluta também sempre será um número inteiro."
   ]
  },
  {
   "cell_type": "markdown",
   "metadata": {},
   "source": [
    "# Tarefa 2. É provável que o cliente receba um pagamento do seguro?"
   ]
  },
  {
   "cell_type": "markdown",
   "metadata": {},
   "source": [
    "Em termos de aprendizado de máquina, podemos olhar para isso como uma tarefa de classificação binária."
   ]
  },
  {
   "cell_type": "markdown",
   "metadata": {},
   "source": [
    "Com os pagamentos de seguro sendo mais do que zero como objetivo, avalie se a abordagem da classificação kNN pode ser melhor do que um modelo dummy.\n",
    "\n",
    "Instruções:\n",
    "- Construa um classificador baseado em kNN e meça sua qualidade com a métrica F1 para k=1..10 tanto para os dados originais quanto para os escalados. Seria interessante ver como k pode influenciar a métrica de avaliação e se a escalabilidade dos dados faz alguma diferença. Você pode usar uma implementação pronta do algoritmo de classificação kNN do scikit-learn (verifique [o link](https://scikit-learn.org/stable/modules/generated/sklearn.neighbors.KNeighborsClassifier.html)) ou usar a sua própria.\n",
    "- Construa o modelo dummy, que é aleatório para este caso. Deve retornar com alguma probabilidade o valor \"1\". LVamos testar o modelo com quatro valores de probabilidade: 0, a probabilidade de fazer qualquer pagamento de seguro, 0,5, 1.\n",
    "\n",
    "Divida os dados inteiros na proporção 70:30 para as partes de treinamento/teste."
   ]
  },
  {
   "cell_type": "code",
   "execution_count": 26,
   "metadata": {},
   "outputs": [
    {
     "name": "stdout",
     "output_type": "stream",
     "text": [
      "      insurance_benefits  insurance_benefits_received\n",
      "3135                   0                            0\n",
      "556                    0                            0\n",
      "1855                   2                            1\n",
      "956                    0                            0\n",
      "4376                   0                            0\n",
      "17                     0                            0\n",
      "3684                   0                            0\n",
      "1090                   1                            1\n",
      "766                    0                            0\n",
      "3799                   0                            0\n",
      "\n",
      "A Probabilidade de receber um pagamento do seguro é: 0.1128\n"
     ]
    }
   ],
   "source": [
    "# calcule a meta\n",
    "df['insurance_benefits_received'] = (df['insurance_benefits'] > 0).astype('int')\n",
    "\n",
    "# Dividir os dados em treinamento e teste\n",
    "feature_names = ['gender', 'age', 'income', 'family_members']\n",
    "target_name = 'insurance_benefits_received'\n",
    "\n",
    "X_train, X_test, y_train, y_test = train_test_split(df[feature_names], df[target_name], test_size=0.3, random_state=42)\n",
    "\n",
    "# Escalar os dados usando MaxAbsScaler\n",
    "X_train_scaled = transformer_mas.fit_transform(X_train)\n",
    "X_test_scaled = transformer_mas.transform(X_test)\n",
    "\n",
    "\n",
    "probability = df['insurance_benefits_received'].mean()\n",
    "print(df[['insurance_benefits', 'insurance_benefits_received']].sample(10))\n",
    "print()\n",
    "print('A Probabilidade de receber um pagamento do seguro é:', probability)"
   ]
  },
  {
   "cell_type": "code",
   "execution_count": 27,
   "metadata": {},
   "outputs": [
    {
     "data": {
      "text/plain": [
       "insurance_benefits_received\n",
       "0    4436\n",
       "1     564\n",
       "Name: count, dtype: int64"
      ]
     },
     "execution_count": 27,
     "metadata": {},
     "output_type": "execute_result"
    }
   ],
   "source": [
    "# verifique o desequilíbrio de classe com value_counts()\n",
    "\n",
    "df['insurance_benefits_received'].value_counts()"
   ]
  },
  {
   "cell_type": "markdown",
   "metadata": {},
   "source": [
    "**Conclusões:**\n",
    "\n",
    "* **Desequilíbrio de Classes:**  \n",
    "\n",
    "Podemos verificar um desequilíbrio de classes nos dados, pois 88.72% dos dados pertencem à classe '0' e apenas 11.28% dos dados são da classe '1', ou seja, apenas 11.28% dos clientes receberam benefícios do seguro, exatamente como avaliado anteriormente com a média."
   ]
  },
  {
   "cell_type": "code",
   "execution_count": 28,
   "metadata": {
    "scrolled": false
   },
   "outputs": [
    {
     "name": "stdout",
     "output_type": "stream",
     "text": [
      "k = 1\n",
      "Dados Originais\n",
      "F1: 0.65\n",
      "Matriz de Confusão\n",
      "[[0.87466667 0.018     ]\n",
      " [0.04666667 0.06066667]]\n",
      "\n",
      "Dados Escalados\n",
      "F1: 0.93\n",
      "Matriz de Confusão\n",
      "[[0.888      0.00466667]\n",
      " [0.00933333 0.098     ]]\n",
      "\n",
      "\n",
      "k = 2\n",
      "Dados Originais\n",
      "F1: 0.38\n",
      "Matriz de Confusão\n",
      "[[0.89066667 0.002     ]\n",
      " [0.082      0.02533333]]\n",
      "\n",
      "Dados Escalados\n",
      "F1: 0.91\n",
      "Matriz de Confusão\n",
      "[[0.89       0.00266667]\n",
      " [0.01466667 0.09266667]]\n",
      "\n",
      "\n",
      "k = 3\n",
      "Dados Originais\n",
      "F1: 0.39\n",
      "Matriz de Confusão\n",
      "[[0.88266667 0.01      ]\n",
      " [0.07933333 0.028     ]]\n",
      "\n",
      "Dados Escalados\n",
      "F1: 0.94\n",
      "Matriz de Confusão\n",
      "[[0.88933333 0.00333333]\n",
      " [0.00866667 0.09866667]]\n",
      "\n",
      "\n",
      "k = 4\n",
      "Dados Originais\n",
      "F1: 0.16\n",
      "Matriz de Confusão\n",
      "[[0.88933333 0.00333333]\n",
      " [0.098      0.00933333]]\n",
      "\n",
      "Dados Escalados\n",
      "F1: 0.92\n",
      "Matriz de Confusão\n",
      "[[0.89133333 0.00133333]\n",
      " [0.01466667 0.09266667]]\n",
      "\n",
      "\n",
      "k = 5\n",
      "Dados Originais\n",
      "F1: 0.17\n",
      "Matriz de Confusão\n",
      "[[0.884      0.00866667]\n",
      " [0.09666667 0.01066667]]\n",
      "\n",
      "Dados Escalados\n",
      "F1: 0.95\n",
      "Matriz de Confusão\n",
      "[[0.89       0.00266667]\n",
      " [0.00866667 0.09866667]]\n",
      "\n",
      "\n",
      "k = 6\n",
      "Dados Originais\n",
      "F1: 0.09\n",
      "Matriz de Confusão\n",
      "[[8.92000000e-01 6.66666667e-04]\n",
      " [1.02000000e-01 5.33333333e-03]]\n",
      "\n",
      "Dados Escalados\n",
      "F1: 0.92\n",
      "Matriz de Confusão\n",
      "[[0.89133333 0.00133333]\n",
      " [0.01533333 0.092     ]]\n",
      "\n",
      "\n",
      "k = 7\n",
      "Dados Originais\n",
      "F1: 0.12\n",
      "Matriz de Confusão\n",
      "[[0.89133333 0.00133333]\n",
      " [0.10066667 0.00666667]]\n",
      "\n",
      "Dados Escalados\n",
      "F1: 0.93\n",
      "Matriz de Confusão\n",
      "[[0.89       0.00266667]\n",
      " [0.01133333 0.096     ]]\n",
      "\n",
      "\n",
      "k = 8\n",
      "Dados Originais\n",
      "F1: 0.02\n",
      "Matriz de Confusão\n",
      "[[0.89266667 0.        ]\n",
      " [0.106      0.00133333]]\n",
      "\n",
      "Dados Escalados\n",
      "F1: 0.92\n",
      "Matriz de Confusão\n",
      "[[0.89266667 0.        ]\n",
      " [0.01533333 0.092     ]]\n",
      "\n",
      "\n",
      "k = 9\n",
      "Dados Originais\n",
      "F1: 0.04\n",
      "Matriz de Confusão\n",
      "[[0.89266667 0.        ]\n",
      " [0.10533333 0.002     ]]\n",
      "\n",
      "Dados Escalados\n",
      "F1: 0.93\n",
      "Matriz de Confusão\n",
      "[[0.89133333 0.00133333]\n",
      " [0.012      0.09533333]]\n",
      "\n",
      "\n",
      "k = 10\n",
      "Dados Originais\n",
      "F1: 0.04\n",
      "Matriz de Confusão\n",
      "[[0.89266667 0.        ]\n",
      " [0.10533333 0.002     ]]\n",
      "\n",
      "Dados Escalados\n",
      "F1: 0.92\n",
      "Matriz de Confusão\n",
      "[[8.92000000e-01 6.66666667e-04]\n",
      " [1.53333333e-02 9.20000000e-02]]\n",
      "\n",
      "\n"
     ]
    }
   ],
   "source": [
    "def eval_classifier(y_true, y_pred):\n",
    "    \n",
    "    f1_score = sklearn.metrics.f1_score(y_true, y_pred)\n",
    "    print(f'F1: {f1_score:.2f}')\n",
    "    \n",
    "# se você tiver um problema com a linha a seguir, reinicie o kernel e execute o caderno novamente\n",
    "    cm = sklearn.metrics.confusion_matrix(y_true, y_pred, normalize='all')\n",
    "    print('Matriz de Confusão')\n",
    "    print(cm)\n",
    "    \n",
    "    return f1_score, cm\n",
    "    \n",
    "\n",
    "# Avaliar o classificador kNN\n",
    "for k in range(1, 11):\n",
    "    print(f'k = {k}')\n",
    "    \n",
    "    # Modelo com dados originais\n",
    "    print('Dados Originais')\n",
    "    knn = KNeighborsClassifier(n_neighbors=k)\n",
    "    knn.fit(X_train, y_train)\n",
    "    y_pred = knn.predict(X_test)\n",
    "    f1_orig, cm_orig = eval_classifier(y_test, y_pred)\n",
    "    print()\n",
    "    \n",
    "    # Modelo com dados escalados\n",
    "    print('Dados Escalados')\n",
    "    knn_scaled = KNeighborsClassifier(n_neighbors=k)\n",
    "    knn_scaled.fit(X_train_scaled, y_train)\n",
    "    y_pred_scaled = knn_scaled.predict(X_test_scaled)\n",
    "    f1_scaled, cm_scaled = eval_classifier(y_test, y_pred_scaled)\n",
    "    print()\n",
    "    print()"
   ]
  },
  {
   "cell_type": "markdown",
   "metadata": {},
   "source": [
    "**EXIBIÇÃO DOS RESULTADOS DO MODELO KNN:**\n",
    "\n",
    "\n",
    "| k  | F1 Original | Matriz de Confusão Original (VN-FP-FN-VP) | F1 Escalado | Matriz de Confusão Escalado(VN-FP-FN-VP)|\n",
    "|----|:-----------:|:------------------------------------------|:-----------:|:----------------------------------------|\n",
    "| 1  | 0.65        | [[0.8747, 0.018], [0.0467, 0.0607]]       | 0.93        | [[0.888, 0.0047], [0.0093, 0.098]]      |\n",
    "| 2  | 0.38        | [[0.8907, 0.002], [0.082, 0.0253]]        | 0.91        | [[0.89, 0.0027], [0.0147, 0.0927]]      |\n",
    "| 3  | 0.39        | [[0.8833, 0.0093], [0.0793, 0.028]]       | 0.94        | [[0.8893, 0.0033], [0.0087, 0.0987]]    |\n",
    "| 4  | 0.16        | [[0.8893, 0.0033], [0.098, 0.0093]]       | 0.92        | [[0.8913, 0.0013], [0.0147, 0.0927]]    |\n",
    "| 5  | 0.17        | [[0.8833, 0.0093], [0.0967, 0.0107]]      | 0.95        | [[0.89, 0.0027], [0.0087, 0.0987]]      |\n",
    "| 6  | 0.09        | [[0.892, 0.0007], [0.102, 0.0053]]        | 0.92        | [[0.8913, 0.0013], [0.0153, 0.092]]     |\n",
    "| 7  | 0.12        | [[0.8913, 0.0013], [0.1007, 0.0067]]      | 0.93        | [[0.89, 0.0027], [0.0113, 0.096]]       |\n",
    "| 8  | 0.02        | [[0.8927, 0], [0.106, 0.0013]]            | 0.92        | [[0.8927, 0], [0.0153, 0.092]]          |\n",
    "| 9  | 0.04        | [[0.8927, 0], [0.1053, 0.002]]            | 0.93        | [[0.8913, 0.0013], [0.012, 0.0953]]     |\n",
    "| 10 | 0.04        | [[0.8927, 0], [0.1053, 0.002]]            | 0.92        | [[0.892, 0.0007], [0.0153, 0.092]]      |\n"
   ]
  },
  {
   "cell_type": "markdown",
   "metadata": {},
   "source": [
    "Podemos observar que com os dados escalados, os resultados de F1 obtidos foram muito melhores, sendo que dentre estes modelos, o que apresentou os melhores resultados foi o de 'k' = 5, pois obteve um F1 = 0.95."
   ]
  },
  {
   "cell_type": "code",
   "execution_count": 29,
   "metadata": {},
   "outputs": [],
   "source": [
    "# gerando saída de um modelo aleatório\n",
    "\n",
    "def random_model_predict(P, size, seed=42):\n",
    "    rng = np.random.default_rng(seed=seed)\n",
    "    return rng.binomial(n=1, p=P, size=size)"
   ]
  },
  {
   "cell_type": "code",
   "execution_count": 30,
   "metadata": {
    "scrolled": false
   },
   "outputs": [
    {
     "name": "stdout",
     "output_type": "stream",
     "text": [
      "A probabilidade: 0.00\n"
     ]
    },
    {
     "name": "stdout",
     "output_type": "stream",
     "text": [
      "F1: 0.00\n",
      "Matriz de Confusão\n",
      "[[0.8872 0.    ]\n",
      " [0.1128 0.    ]]\n",
      "\n",
      "A probabilidade: 0.11\n",
      "F1: 0.12\n",
      "Matriz de Confusão\n",
      "[[0.7914 0.0958]\n",
      " [0.0994 0.0134]]\n",
      "\n",
      "A probabilidade: 0.50\n",
      "F1: 0.20\n",
      "Matriz de Confusão\n",
      "[[0.456  0.4312]\n",
      " [0.053  0.0598]]\n",
      "\n",
      "A probabilidade: 1.00\n",
      "F1: 0.20\n",
      "Matriz de Confusão\n",
      "[[0.     0.8872]\n",
      " [0.     0.1128]]\n",
      "\n"
     ]
    }
   ],
   "source": [
    "for P in [0, df['insurance_benefits_received'].sum() / len(df), 0.5, 1]:\n",
    "\n",
    "    print(f'A probabilidade: {P:.2f}')\n",
    "    y_pred_random = random_model_predict(P, size=len(df))\n",
    "        \n",
    "    eval_classifier(df['insurance_benefits_received'], y_pred_random)\n",
    "    print()"
   ]
  },
  {
   "cell_type": "markdown",
   "metadata": {},
   "source": [
    "**EXIBIÇÃO DOS RESULTADOS DO MODELO DUMMY:**\n",
    "\n",
    "  \n",
    "| Probabilidade |     F1     | Matriz de Confusão (VN-FP-FN-VP)   |\n",
    "|:-------------:|:----------:|:-----------------------------------|\n",
    "| 0.00          | 0.00       | [[0.8872 0.    ], [0.1128 0.    ]] |\n",
    "| 0.11          | 0.12       | [[0.7914 0.0958], [0.0994 0.0134]] |\n",
    "| 0.50          | 0.20       | [[0.456  0.4312], [0.053  0.0598]] |\n",
    "| 1.00          | 0.20       | [[0.     0.8872], [0.     0.1128]] |\n"
   ]
  },
  {
   "cell_type": "markdown",
   "metadata": {},
   "source": [
    "* **Matriz da Probabilidade = 0 e F1 = 0:**\n",
    "Como era de se esperar, com todas as previsões sendo negativas, obtivemos 88.72% de Verdadeiros Negativos e 11.28% de Falsos Negativos, exatamente como a verificação de desequilíbrio de classes nos havia informado.\n",
    "\n",
    "\n",
    "* **Matriz da Probabilidade = 0.11 e F1 = 0.12:**  \n",
    "79% das previsões foram Verdadeiros Negativos, 10% de Falsos Negativos, 10% de Falsos Positivos e 1% de Verdadeiros Positivos.  \n",
    "\n",
    "* **Matriz da Probabilidade = 0.50 e F1 = 0.20:**\n",
    "46% de Verdadeiros Negativos, 5% de Falsos Negativos, 43% de Falsos Positivos e 6% de verdadeiros Positivos.\n",
    "\n",
    "* **Matriz da Probabilidade = 1.00 e F1 = 0.20:**\n",
    "Inversamente a matriz de probabilidade 0, agora com todas as previsões sendo positivas, obtivemos 0% de Verdadeiros Negativos, 0% de Falsos Negativos, 88.72% de Falsos Positivos e 11.28% de Verdadeiros Positivos"
   ]
  },
  {
   "cell_type": "markdown",
   "metadata": {},
   "source": [
    "**CONCLUSÕES DA TAREFA:**\n",
    "\n",
    "**Com os pagamentos de seguro sendo mais do que zero como objetivo, avalie se a abordagem da classificação kNN pode ser melhor do que um modelo dummy.**\n",
    "\n",
    "Avaliando os resultados obtidos foi possível observar que o modelo knn, em geral, apresentou resultados muito melhores do que os obtidos com o modelo Dummy, pois com os dados escalados, nosso modelo knn obteve um F1 de 0.95, o que é um resultado muito positivo, enquanto que o melhor resultado de F1 obtido com o modelo Dummy foi de apenas 0.20."
   ]
  },
  {
   "cell_type": "markdown",
   "metadata": {},
   "source": [
    "# Tarefa 3. Regressão (com Regressão Linear)"
   ]
  },
  {
   "cell_type": "markdown",
   "metadata": {},
   "source": [
    "Com os pagamentos de seguro como objetivo, avalie qual seria o REQM para um modelo de Regressão Linear."
   ]
  },
  {
   "cell_type": "markdown",
   "metadata": {},
   "source": [
    "Construa sua própria implementação de Regressão Linear. Para isso, lembre-se de como a solução da tarefa de regressão linear é formulada em termos de Álgebra linear. Verifique o REQM para os dados originais e os escalados. Você pode ver alguma diferença no REQM entre esses dois casos?\n",
    "\n",
    "Vamos denotar\n",
    "- $X$ — matriz de características, cada linha é um caso, cada coluna é uma característica, a primeira coluna consiste em unidades\n",
    "- $y$ — objetivo (um vetor)\n",
    "- $\\hat{y}$ — objetivo estimado (um vetor)\n",
    "- $w$ — vetor de peso\n",
    "\n",
    "A tarefa de regressão linear na linguagem de matrizes pode ser formulada como\n",
    "$$\n",
    "y = Xw\n",
    "$$\n",
    "\n",
    "O objetivo do treinamento, então, é encontrar os $w$ que minimizaria a distância L2 (EQM) entre $Xw$ e $y$:\n",
    "\n",
    "$$\n",
    "\\min_w d_2(Xw, y) \\quad \\text{or} \\quad \\min_w \\text{MSE}(Xw, y)\n",
    "$$\n",
    "\n",
    "Parece que há uma solução analítica para a questão acima:\n",
    "\n",
    "$$\n",
    "w = (X^T X)^{-1} X^T y\n",
    "$$\n",
    "\n",
    "A fórmula acima pode ser usada para encontrar os pesos $w$ e o último pode ser usado para calcular valores preditos\n",
    "\n",
    "$$\n",
    "\\hat{y} = X_{val}w\n",
    "$$"
   ]
  },
  {
   "cell_type": "markdown",
   "metadata": {},
   "source": [
    "Divida todos os dados na proporção 70:30 para as partes de treinamento/validação. Use a métrica REQM para a avaliação do modelo."
   ]
  },
  {
   "cell_type": "code",
   "execution_count": 31,
   "metadata": {},
   "outputs": [],
   "source": [
    "class MyLinearRegression:\n",
    "    \n",
    "    def __init__(self):\n",
    "        \n",
    "        self.weights = None\n",
    "        \n",
    "    \n",
    "    def fit(self, X, y):\n",
    "        \n",
    "        # somando as unidades\n",
    "        X2 = np.append(np.ones([len(X), 1]), X, axis=1)\n",
    "        self.weights = np.linalg.inv(X2.T.dot(X2)).dot(X2.T).dot(y)\n",
    "        self.wo = self.weights[0]     \n",
    "        \n",
    "  \n",
    "    def predict(self, X):\n",
    "        # Adicionando a coluna de unidades (bias/intercepto)\n",
    "        X2 = np.append(np.ones([len(X), 1]), X, axis=1)\n",
    "        # Calculando as previsões\n",
    "        y_pred = X2.dot(self.weights)\n",
    "        return y_pred"
   ]
  },
  {
   "cell_type": "code",
   "execution_count": 32,
   "metadata": {},
   "outputs": [],
   "source": [
    "def eval_regressor(y_true, y_pred):\n",
    "    \n",
    "    rmse = math.sqrt(sklearn.metrics.mean_squared_error(y_true, y_pred))\n",
    "    print(f'REQM: {rmse:.2f}')\n",
    "    \n",
    "    r2_score = math.sqrt(sklearn.metrics.r2_score(y_true, y_pred))\n",
    "    print(f'R2: {r2_score:.2f}')\n",
    "    \n",
    "    return rmse, r2_score"
   ]
  },
  {
   "cell_type": "code",
   "execution_count": 33,
   "metadata": {},
   "outputs": [
    {
     "name": "stdout",
     "output_type": "stream",
     "text": [
      "Dados Originais:\n",
      "Pesos: [-9.43539012e-01  3.57495491e-02  1.64272726e-02 -2.60743659e-07\n",
      " -1.16902127e-02]\n",
      "\n",
      "REQM: 0.34\n",
      "R2: 0.66\n",
      "\n",
      "Dados Escalados:\n",
      "Pesos: [-0.94353901  2.32372069  0.01642727 -0.02059875 -0.07014128]\n",
      "\n",
      "REQM: 0.34\n",
      "R2: 0.66\n"
     ]
    }
   ],
   "source": [
    "X = df[['age', 'gender', 'income', 'family_members']].to_numpy()\n",
    "y = df['insurance_benefits'].to_numpy()\n",
    "\n",
    "X_train, X_test, y_train, y_test = train_test_split(X, y, test_size=0.3, random_state=12345)\n",
    "\n",
    "# Dados Originais\n",
    "print(\"Dados Originais:\")\n",
    "\n",
    "lr = MyLinearRegression()\n",
    "lr.fit(X_train, y_train)\n",
    "print('Pesos:', lr.weights)\n",
    "print()\n",
    "\n",
    "y_test_pred = lr.predict(X_test)\n",
    "rmse_orig, r2_orig = eval_regressor(y_test, y_test_pred)\n",
    "print()\n",
    "\n",
    "\n",
    "# Dados Transformados\n",
    "X_train_scaled = transformer_mas.fit_transform(X_train)\n",
    "X_test_scaled = transformer_mas.transform(X_test)\n",
    "\n",
    "print(\"Dados Escalados:\")\n",
    "\n",
    "lr_scaled = MyLinearRegression()\n",
    "lr_scaled.fit(X_train_scaled, y_train)\n",
    "print('Pesos:', lr_scaled.weights)\n",
    "print()\n",
    "\n",
    "y_test_pred_scaled = lr_scaled.predict(X_test_scaled)\n",
    "rmse_scaled, r2_scaled = eval_regressor(y_test, y_test_pred_scaled)"
   ]
  },
  {
   "cell_type": "markdown",
   "metadata": {},
   "source": [
    "**CONCLUSÕES:**\n",
    "\n",
    "**Verifique o REQM para os dados originais e os escalados. Você pode ver alguma diferença no REQM entre esses dois casos?**\n",
    "\n",
    "\n",
    "**RESPOSTA:** \n",
    "\n",
    "Não. O REQM obtido foi o mesmo para os dados escalados e para os dados originais, o que nos demosntra que para um modelo de Regressão Linear, a transformação dos dados não afeta o resultado do REQM e R2, diferentemente do que foi observado com os modelos knn, que tiveram resultados bem alterados após transformação dos dados. "
   ]
  },
  {
   "cell_type": "markdown",
   "metadata": {},
   "source": [
    "# Tarefa 4. Ofuscando dados"
   ]
  },
  {
   "cell_type": "markdown",
   "metadata": {},
   "source": [
    "É melhor ofuscar os dados multiplicando as características numéricas (lembre-se, elas podem ser vistos como a matriz $X$) por uma matriz invertível $P$. \n",
    "\n",
    "$$\n",
    "X' = X \\times P\n",
    "$$\n",
    "\n",
    "Tente fazer isso e verifique como os valores das características ficarão após a transformação. Aliás, a invertibilidade é importante aqui, portanto, certifique-se de que $P$ seja realmente invertível.\n",
    "\n",
    "Você pode querer revisar a lição 'Matrizes e Operações com Matrizes -> Multiplicação de Matrizes' para relembrar a regra de multiplicação de matrizes e sua implementação com NumPy."
   ]
  },
  {
   "cell_type": "code",
   "execution_count": 34,
   "metadata": {},
   "outputs": [],
   "source": [
    "personal_info_column_list = ['gender', 'age', 'income', 'family_members']\n",
    "df_pn = df[personal_info_column_list]"
   ]
  },
  {
   "cell_type": "code",
   "execution_count": 35,
   "metadata": {},
   "outputs": [
    {
     "data": {
      "text/plain": [
       "array([[1.00e+00, 4.10e+01, 4.96e+04, 1.00e+00],\n",
       "       [0.00e+00, 4.60e+01, 3.80e+04, 1.00e+00],\n",
       "       [0.00e+00, 2.90e+01, 2.10e+04, 0.00e+00],\n",
       "       ...,\n",
       "       [0.00e+00, 2.00e+01, 3.39e+04, 2.00e+00],\n",
       "       [1.00e+00, 2.20e+01, 3.27e+04, 3.00e+00],\n",
       "       [1.00e+00, 2.80e+01, 4.06e+04, 1.00e+00]])"
      ]
     },
     "execution_count": 35,
     "metadata": {},
     "output_type": "execute_result"
    }
   ],
   "source": [
    "X = df_pn.to_numpy()\n",
    "X"
   ]
  },
  {
   "cell_type": "code",
   "execution_count": 36,
   "metadata": {},
   "outputs": [
    {
     "data": {
      "text/plain": [
       "(5000, 4)"
      ]
     },
     "execution_count": 36,
     "metadata": {},
     "output_type": "execute_result"
    }
   ],
   "source": [
    "X.shape"
   ]
  },
  {
   "cell_type": "markdown",
   "metadata": {},
   "source": [
    "Gerando uma matriz $P$ aleatória."
   ]
  },
  {
   "cell_type": "code",
   "execution_count": 37,
   "metadata": {},
   "outputs": [
    {
     "data": {
      "text/plain": [
       "array([[0.77395605, 0.43887844, 0.85859792, 0.69736803],\n",
       "       [0.09417735, 0.97562235, 0.7611397 , 0.78606431],\n",
       "       [0.12811363, 0.45038594, 0.37079802, 0.92676499],\n",
       "       [0.64386512, 0.82276161, 0.4434142 , 0.22723872]])"
      ]
     },
     "execution_count": 37,
     "metadata": {},
     "output_type": "execute_result"
    }
   ],
   "source": [
    "rng = np.random.default_rng(seed=42)\n",
    "P = rng.random(size=(X.shape[1], X.shape[1]))\n",
    "\n",
    "P"
   ]
  },
  {
   "cell_type": "markdown",
   "metadata": {},
   "source": [
    "Verificando se a matriz $P$ é invertível"
   ]
  },
  {
   "cell_type": "code",
   "execution_count": 38,
   "metadata": {},
   "outputs": [
    {
     "data": {
      "text/plain": [
       "array([[ 0.41467992, -1.43783972,  0.62798546,  1.14001268],\n",
       "       [-1.06101789,  0.44219337,  0.1329549 ,  1.18425933],\n",
       "       [ 1.42362442,  1.60461607, -2.0553823 , -1.53699695],\n",
       "       [-0.11128575, -0.65813802,  1.74995517, -0.11816316]])"
      ]
     },
     "execution_count": 38,
     "metadata": {},
     "output_type": "execute_result"
    }
   ],
   "source": [
    "P_inv = np.linalg.inv(P)\n",
    "\n",
    "P_inv"
   ]
  },
  {
   "cell_type": "markdown",
   "metadata": {},
   "source": [
    "Você consegue adivinhar a idade ou a renda dos clientes após a transformação?"
   ]
  },
  {
   "cell_type": "code",
   "execution_count": 39,
   "metadata": {},
   "outputs": [
    {
     "name": "stdout",
     "output_type": "stream",
     "text": [
      "(5000, 4)\n",
      "\n",
      "[[ 6359.71527314 22380.40467609 18424.09074184 46000.69669016]\n",
      " [ 4873.29406479 17160.36702982 14125.78076133 35253.45577301]\n",
      " [ 2693.11742928  9486.397744    7808.83156024 19484.86063067]\n",
      " ...\n",
      " [ 4346.2234249  15289.24126492 12586.16264392 31433.50888552]\n",
      " [ 4194.09324155 14751.9910242  12144.02930637 30323.88763426]\n",
      " [ 5205.46827354 18314.24814446 15077.01370762 37649.59295455]]\n"
     ]
    }
   ],
   "source": [
    "X_transf = np.dot(X, P)\n",
    "\n",
    "print(X_transf.shape)\n",
    "print()\n",
    "print(X_transf)"
   ]
  },
  {
   "cell_type": "markdown",
   "metadata": {},
   "source": [
    "**Após a transformação não é possível advinhar as informações dos clientes.**"
   ]
  },
  {
   "cell_type": "markdown",
   "metadata": {},
   "source": [
    "Você pode recuperar os dados originais de $X′$ se souber $P$? Tente verificar isso com cálculos movendo $P$ do lado direito da fórmula acima para o esquerdo. As regras da multiplicação de matrizes são realmente úteis aqui"
   ]
  },
  {
   "cell_type": "code",
   "execution_count": 40,
   "metadata": {
    "scrolled": true
   },
   "outputs": [
    {
     "name": "stdout",
     "output_type": "stream",
     "text": [
      "[[ 1.00000000e+00  4.10000000e+01  4.96000000e+04  1.00000000e+00]\n",
      " [-4.47363596e-12  4.60000000e+01  3.80000000e+04  1.00000000e+00]\n",
      " [-2.51586878e-12  2.90000000e+01  2.10000000e+04  9.52452315e-13]\n",
      " ...\n",
      " [-1.92837871e-12  2.00000000e+01  3.39000000e+04  2.00000000e+00]\n",
      " [ 1.00000000e+00  2.20000000e+01  3.27000000e+04  3.00000000e+00]\n",
      " [ 1.00000000e+00  2.80000000e+01  4.06000000e+04  1.00000000e+00]]\n"
     ]
    }
   ],
   "source": [
    "X_rec = np.dot(X_transf, P_inv)\n",
    "\n",
    "print(X_rec)"
   ]
  },
  {
   "cell_type": "markdown",
   "metadata": {},
   "source": [
    "Imprima todos os três casos para alguns clientes\n",
    "- Os dados originais\n",
    "- O transformado\n",
    "- O invertido (recuperado)"
   ]
  },
  {
   "cell_type": "code",
   "execution_count": 41,
   "metadata": {},
   "outputs": [
    {
     "name": "stdout",
     "output_type": "stream",
     "text": [
      "Dados Originais:\n",
      "[[1.00e+00 4.10e+01 4.96e+04 1.00e+00]\n",
      " [0.00e+00 4.60e+01 3.80e+04 1.00e+00]\n",
      " [0.00e+00 2.90e+01 2.10e+04 0.00e+00]\n",
      " ...\n",
      " [0.00e+00 2.00e+01 3.39e+04 2.00e+00]\n",
      " [1.00e+00 2.20e+01 3.27e+04 3.00e+00]\n",
      " [1.00e+00 2.80e+01 4.06e+04 1.00e+00]]\n",
      "\n",
      "Dados Transformados:\n",
      "[[ 6359.71527314 22380.40467609 18424.09074184 46000.69669016]\n",
      " [ 4873.29406479 17160.36702982 14125.78076133 35253.45577301]\n",
      " [ 2693.11742928  9486.397744    7808.83156024 19484.86063067]\n",
      " ...\n",
      " [ 4346.2234249  15289.24126492 12586.16264392 31433.50888552]\n",
      " [ 4194.09324155 14751.9910242  12144.02930637 30323.88763426]\n",
      " [ 5205.46827354 18314.24814446 15077.01370762 37649.59295455]]\n",
      "\n",
      "Dados Recuperados:\n",
      "[[ 1.00000000e+00  4.10000000e+01  4.96000000e+04  1.00000000e+00]\n",
      " [-4.47363596e-12  4.60000000e+01  3.80000000e+04  1.00000000e+00]\n",
      " [-2.51586878e-12  2.90000000e+01  2.10000000e+04  9.52452315e-13]\n",
      " ...\n",
      " [-1.92837871e-12  2.00000000e+01  3.39000000e+04  2.00000000e+00]\n",
      " [ 1.00000000e+00  2.20000000e+01  3.27000000e+04  3.00000000e+00]\n",
      " [ 1.00000000e+00  2.80000000e+01  4.06000000e+04  1.00000000e+00]]\n"
     ]
    }
   ],
   "source": [
    "print('Dados Originais:')\n",
    "print(X[:, :])\n",
    "print()\n",
    "\n",
    "print('Dados Transformados:')\n",
    "print(X_transf[:, :])\n",
    "print()\n",
    "\n",
    "print('Dados Recuperados:')\n",
    "print(X_rec[:, :])"
   ]
  },
  {
   "cell_type": "markdown",
   "metadata": {},
   "source": [
    "Você provavelmente pode ver que alguns valores não são exatamente iguais aos dos dados originais. Qual pode ser a razão disso?"
   ]
  },
  {
   "cell_type": "markdown",
   "metadata": {},
   "source": [
    "**RESPOSTA:**\n",
    "\n",
    "A razão dos dados não serem exibidos exatamente iguais é por conta de arredondamentos durante as operações de transformação e recuperação. Cada multiplicação de matrizes tem um arredondamento. \n",
    "\n",
    "Nos dados originais, as informações que são exibidas como zero, após as transformações retornam como um número muito pequeno, que tende a zero, como por exemplo 0.000000000000447363596, mas não exatamente zero."
   ]
  },
  {
   "cell_type": "markdown",
   "metadata": {},
   "source": [
    "## Provas de que a ofuscação de dados pode funcionar com a Regressão Linear"
   ]
  },
  {
   "cell_type": "markdown",
   "metadata": {},
   "source": [
    "A tarefa de regressão foi resolvida com regressão linear neste projeto. Sua próxima tarefa é provar analiticamente que o método de ofuscação fornecido não afetará a regressão linear em termos de valores preditos, ou seja, seus valores permanecerão os mesmos. Você acredita nisso? Bem, você não precisa acreditar, você deve provar isso!"
   ]
  },
  {
   "cell_type": "markdown",
   "metadata": {},
   "source": [
    "Assim, os dados são ofuscados e há $X \\ P$ em vez de apenas X agora. Consequentemente, existem outros pesos $w_P$ como\n",
    "$$\n",
    "w = (X^T X)^{-1} X^T y \\quad \\Rightarrow \\quad w_P = [(XP)^T XP]^{-1} (XP)^T y\n",
    "$$\n",
    "\n",
    "Como  $w$ e $w_P$ seriam ligados se você simplificasse a fórmula para $w_P$ acima? \n",
    "\n",
    "Quais seriam os valores previstos com $w_P$? \n",
    "\n",
    "O que isso significa para a qualidade da regressão linear se você medir com REQM?\n",
    "\n",
    "Verifique o Apêndice B Propriedades das Matrizes no final do caderno. Existem fórmulas úteis lá!\n",
    "\n",
    "Nenhum código é necessário nesta seção, apenas explicação analítica!"
   ]
  },
  {
   "cell_type": "markdown",
   "metadata": {},
   "source": [
    "**RESPOSTA:**\n",
    "\n",
    "Temos que $w = (X^T X)^{-1} X^T y$,  e que $w_P = [(XP)^T XP]^{-1} (XP)^T y$\n",
    "\n",
    "\n",
    "<br>\n",
    "\n",
    "\n",
    "**Vamos simplificar a fórmula de $w_P$:**\n",
    "\n",
    "$w_P = (P^{-1}(X^TX)^{-1}(P^T)^{-1})(X^T P^T y)$,  \n",
    "\n",
    "<br>  \n",
    "como $(P^T)^{-1} P^T = I$, então temos que: $w_P = P^{-1}(X^TX)^{-1}X^T y$  $\\quad \\Rightarrow \\quad$ $w_P = P^{-1} w$,  \n",
    "<br>  \n",
    "\n",
    "Portanto, $w_P$ é a transformação de $w$ pela inversa de $P$  \n",
    "<br>  \n",
    "<br> \n",
    "\n",
    "**Em relação aos valores previstos com  $𝑤𝑃$**\n",
    "\n",
    "$\\hat{y} = (XP)w_P$,  como $w_P = P^{-1} w$ $\\quad \\Rightarrow \\quad (XP)w P^-1 \\quad \\Rightarrow \\quad X (PP^-1)w \\quad \\Rightarrow \\quad X Iw \\quad \\Rightarrow \\quad Xw$\n",
    "\n",
    "\n",
    "Analisando a fórmula simplificada acima, podemos inferir que os valores previstos usando  $w$ e $w_P$ são os mesmos, pois $Xw = Xw$.\n",
    "\n",
    "Isso significa que o resultado não é impactado em relação à qualidade da regressão linear se medir com REQM."
   ]
  },
  {
   "cell_type": "markdown",
   "metadata": {},
   "source": [
    "## Teste de regressão linear com ofuscação de dados"
   ]
  },
  {
   "cell_type": "markdown",
   "metadata": {},
   "source": [
    "Agora, vamos provar que a Regressão Linear pode funcionar computacionalmente com a transformação de ofuscação escolhida.\n",
    "Crie um procedimento ou uma classe que execute a Regressão Linear opcionalmente com a ofuscação. Você pode usar uma implementação pronta de Regressão Linear do scikit-learn ou sua própria.\n",
    "\n",
    "Execute a Regressão Linear para os dados originais e os ofuscados, compare os valores previstos e os valores da métrica $R^2$ do REQM. Há alguma diferença?"
   ]
  },
  {
   "cell_type": "markdown",
   "metadata": {},
   "source": [
    "**Procedimento**\n",
    "\n",
    "- Crie uma matriz quadrada $P$ de números aleatórios.\n",
    "- Verifique se é invertível. Caso contrário, repita o primeiro ponto até obtermos uma matriz invertível.\n",
    "- <! seu comentário aqui!>\n",
    "- Use $XP$ como a nova matriz de características"
   ]
  },
  {
   "cell_type": "code",
   "execution_count": 42,
   "metadata": {},
   "outputs": [
    {
     "data": {
      "text/plain": [
       "array([[0.22733602, 0.31675834, 0.79736546, 0.67625467],\n",
       "       [0.39110955, 0.33281393, 0.59830875, 0.18673419],\n",
       "       [0.67275604, 0.94180287, 0.24824571, 0.94888115],\n",
       "       [0.66723745, 0.09589794, 0.44183967, 0.88647992]])"
      ]
     },
     "execution_count": 42,
     "metadata": {},
     "output_type": "execute_result"
    }
   ],
   "source": [
    "rng = np.random.default_rng(seed=12345)\n",
    "P = rng.random(size=(X.shape[1], X.shape[1]))\n",
    "\n",
    "P"
   ]
  },
  {
   "cell_type": "code",
   "execution_count": 43,
   "metadata": {},
   "outputs": [
    {
     "data": {
      "text/plain": [
       "array([[-1.97240014,  1.76004024, -0.08309671,  1.22285233],\n",
       "       [ 0.14111106,  0.32873452,  1.02824721, -1.27752175],\n",
       "       [ 0.8908452 ,  0.90302415, -0.59501472, -0.23290483],\n",
       "       [ 1.02530945, -1.81039816,  0.24787878,  0.46192295]])"
      ]
     },
     "execution_count": 43,
     "metadata": {},
     "output_type": "execute_result"
    }
   ],
   "source": [
    "P_inv = np.linalg.inv(P)\n",
    "\n",
    "P_inv"
   ]
  },
  {
   "cell_type": "code",
   "execution_count": 44,
   "metadata": {},
   "outputs": [
    {
     "name": "stdout",
     "output_type": "stream",
     "text": [
      "(5000, 4)\n",
      "\n",
      "[[33385.62984818 46727.48014471 12338.75730965 47073.72396713]\n",
      " [25583.38794934 35803.91421888  9461.30119825 36066.96002212]\n",
      " [14139.21910127 19787.51177458  5230.51096108 19931.91947988]\n",
      " ...\n",
      " [22815.58655801 31933.96520708  8428.37958035 32172.5786907 ]\n",
      " [22009.95609777 30804.88005289  8132.92054542 31035.85751146]\n",
      " [27325.74102789 38246.92777622 10096.76786418 38531.36605622]]\n"
     ]
    }
   ],
   "source": [
    "X_transf = np.dot(X, P)\n",
    "\n",
    "print(X_transf.shape)\n",
    "print()\n",
    "print(X_transf)"
   ]
  },
  {
   "cell_type": "code",
   "execution_count": 45,
   "metadata": {},
   "outputs": [],
   "source": [
    "class TestLinearRegression:\n",
    "    \n",
    "    def __init__(self):\n",
    "        \n",
    "        self.weights = None\n",
    "        \n",
    "    \n",
    "    def fit(self, X_transf, y):\n",
    "        \n",
    "        # somando as unidades\n",
    "        X2 = np.append(np.ones([len(X_transf), 1]), X_transf, axis=1)\n",
    "        self.weights = np.linalg.inv(X2.T.dot(X2)).dot(X2.T).dot(y)\n",
    "        self.wo = self.weights[0]     \n",
    "        \n",
    "  \n",
    "    def predict(self, X_transf):\n",
    "        # Adicionando a coluna de unidades (bias/intercepto)\n",
    "        X2 = np.append(np.ones([len(X_transf), 1]), X_transf, axis=1)\n",
    "        # Calculando as previsões\n",
    "        y_pred = X2.dot(self.weights)\n",
    "        return y_pred"
   ]
  },
  {
   "cell_type": "code",
   "execution_count": 46,
   "metadata": {},
   "outputs": [],
   "source": [
    "def eval_regressor(y_true, y_pred):\n",
    "    \n",
    "    rmse = math.sqrt(sklearn.metrics.mean_squared_error(y_true, y_pred))\n",
    "    print(f'REQM: {rmse:.2f}')\n",
    "    \n",
    "    r2_score = math.sqrt(sklearn.metrics.r2_score(y_true, y_pred))\n",
    "    print(f'R2: {r2_score:.2f}')\n",
    "    \n",
    "    return rmse, r2_score"
   ]
  },
  {
   "cell_type": "code",
   "execution_count": 47,
   "metadata": {},
   "outputs": [
    {
     "name": "stdout",
     "output_type": "stream",
     "text": [
      "Dados Originais:\n",
      "Valores previstos: [ 0.17926625  0.80931996  0.45614337 -0.23762191  0.4650019 ]\n",
      "REQM: 0.34\n",
      "R2: 0.66\n",
      "\n",
      "Dados Escalados:\n",
      "Valores previstos: [ 0.17926625  0.80931996  0.45614337 -0.23762191  0.4650019 ]\n",
      "REQM: 0.34\n",
      "R2: 0.66\n"
     ]
    }
   ],
   "source": [
    "X_transf = df[['age', 'gender', 'income', 'family_members']].to_numpy()\n",
    "y = df['insurance_benefits'].to_numpy()\n",
    "\n",
    "X_transf_train, X_transf_test, y_train, y_test = train_test_split(X_transf, y, test_size=0.3, random_state=12345)\n",
    "\n",
    "\n",
    "# Dados Originais\n",
    "print(\"Dados Originais:\")\n",
    "\n",
    "lr = TestLinearRegression()\n",
    "lr.fit(X_transf_train, y_train)\n",
    "\n",
    "y_test_pred = lr.predict(X_transf_test)\n",
    "print('Valores previstos:', y_test_pred[:5])\n",
    "rmse_orig, r2_orig = eval_regressor(y_test, y_test_pred)\n",
    "print()\n",
    "\n",
    "\n",
    "# Dados Transformados\n",
    "X_transf_train_scaled = transformer_mas.fit_transform(X_transf_train)\n",
    "X_transf_test_scaled = transformer_mas.transform(X_transf_test)\n",
    "\n",
    "print(\"Dados Escalados:\")\n",
    "\n",
    "lr_scaled = TestLinearRegression()\n",
    "lr_scaled.fit(X_transf_train_scaled, y_train)\n",
    "\n",
    "y_test_pred_scaled = lr_scaled.predict(X_transf_test_scaled)\n",
    "print('Valores previstos:', y_test_pred_scaled[:5])\n",
    "rmse_scaled, r2_scaled = eval_regressor(y_test, y_test_pred_scaled)"
   ]
  },
  {
   "cell_type": "markdown",
   "metadata": {},
   "source": [
    "**Conclusões:**\n",
    "\n",
    "Os resultados foram exatamente iguais para os dados originais e para os dados transformados (ofuscação), comprovando que a transformação não afeta as predições de um modelo de Regressão Linear."
   ]
  },
  {
   "cell_type": "markdown",
   "metadata": {},
   "source": [
    "# Apêndices\n",
    "\n",
    "## Apêndice A: Escrevendo Fórmulas em Notebooks Jupyter"
   ]
  },
  {
   "cell_type": "markdown",
   "metadata": {},
   "source": [
    "Você pode escrever fórmulas em seu Jupyter Notebook em uma linguagem de marcação de texto fornecida por um sistema de publicação de alta qualidade chamado $\\LaTeX$ (pronuncia-se \"Lah-tech\"), e elas se parecerão com fórmulas em livros didáticos.\n",
    "Para colocar uma fórmula em um texto, coloque o cifrão ($) antes e depois do texto da fórmula, por exemplo $\\frac{1}{2} \\times \\frac{3}{2} = \\frac{3}{4}$ or $y = x^2, x \\ge 1$.\n",
    "\n",
    "Se uma fórmula deve estar em seu próprio parágrafo, coloque o cifrão duplo ($$) antes e depois do texto da fórmula, por exemplo\n",
    "\n",
    "$$\n",
    "\\bar{x} = \\frac{1}{n}\\sum_{i=1}^{n} x_i.\n",
    "$$\n",
    "\n",
    "A linguagem de marcação do [LaTeX](https://en.wikipedia.org/wiki/LaTeX) é muito popular entre as pessoas que usam fórmulas em seus artigos, livros e textos. Pode ser complexo, mas o básico é fácil. Confira esta [folha de dicas](http://tug.ctan.org/info/undergradmath/undergradmath.pdf) de duas páginas  para aprender a compor as fórmulas mais comuns."
   ]
  },
  {
   "cell_type": "markdown",
   "metadata": {},
   "source": [
    "## Apêndice B: Propriedades das Matrizes"
   ]
  },
  {
   "cell_type": "markdown",
   "metadata": {},
   "source": [
    "Matrizes têm muitas propriedades em Álgebra Linear. Algumas delas estão listadas aqui, o que pode ajudar na prova analítica deste projeto."
   ]
  },
  {
   "cell_type": "markdown",
   "metadata": {},
   "source": [
    "**OBS: Excluí sem querer as células do final e perdi o apêndice. Caso possa incluir novamente, por favor.**\n",
    "\n",
    "Obrigado."
   ]
  }
 ],
 "metadata": {
  "ExecuteTimeLog": [
   {
    "duration": 4298,
    "start_time": "2024-07-04T17:17:28.729Z"
   },
   {
    "duration": 6,
    "start_time": "2024-07-04T17:18:04.486Z"
   },
   {
    "duration": 4049,
    "start_time": "2024-07-04T17:18:08.458Z"
   },
   {
    "duration": 4,
    "start_time": "2024-07-04T17:18:37.437Z"
   },
   {
    "duration": 21,
    "start_time": "2024-07-04T17:18:40.570Z"
   },
   {
    "duration": 5,
    "start_time": "2024-07-04T17:19:28.867Z"
   },
   {
    "duration": 20,
    "start_time": "2024-07-04T17:19:32.402Z"
   },
   {
    "duration": 16,
    "start_time": "2024-07-04T17:19:33.447Z"
   },
   {
    "duration": 3,
    "start_time": "2024-07-04T17:20:32.502Z"
   },
   {
    "duration": 5,
    "start_time": "2024-07-04T17:22:11.936Z"
   },
   {
    "duration": 3,
    "start_time": "2024-07-04T17:22:12.770Z"
   },
   {
    "duration": 17,
    "start_time": "2024-07-04T17:22:39.923Z"
   },
   {
    "duration": 232,
    "start_time": "2024-07-04T17:23:09.559Z"
   },
   {
    "duration": 302,
    "start_time": "2024-07-04T17:24:23.684Z"
   },
   {
    "duration": 29,
    "start_time": "2024-07-04T17:24:36.040Z"
   },
   {
    "duration": 23,
    "start_time": "2024-07-04T17:24:52.578Z"
   },
   {
    "duration": 3993,
    "start_time": "2024-07-04T17:25:29.418Z"
   },
   {
    "duration": 1628,
    "start_time": "2024-07-04T17:25:33.416Z"
   },
   {
    "duration": 16,
    "start_time": "2024-07-04T17:25:35.047Z"
   },
   {
    "duration": 6,
    "start_time": "2024-07-04T17:25:35.067Z"
   },
   {
    "duration": 44,
    "start_time": "2024-07-04T17:25:35.077Z"
   },
   {
    "duration": 16,
    "start_time": "2024-07-04T17:25:35.123Z"
   },
   {
    "duration": 5,
    "start_time": "2024-07-04T17:25:35.143Z"
   },
   {
    "duration": 472,
    "start_time": "2024-07-04T17:25:35.152Z"
   },
   {
    "duration": 0,
    "start_time": "2024-07-04T17:25:35.629Z"
   },
   {
    "duration": 0,
    "start_time": "2024-07-04T17:25:35.632Z"
   },
   {
    "duration": 0,
    "start_time": "2024-07-04T17:25:35.634Z"
   },
   {
    "duration": 0,
    "start_time": "2024-07-04T17:25:35.636Z"
   },
   {
    "duration": 1,
    "start_time": "2024-07-04T17:25:35.637Z"
   },
   {
    "duration": 0,
    "start_time": "2024-07-04T17:25:35.641Z"
   },
   {
    "duration": 0,
    "start_time": "2024-07-04T17:25:35.643Z"
   },
   {
    "duration": 0,
    "start_time": "2024-07-04T17:25:35.645Z"
   },
   {
    "duration": 0,
    "start_time": "2024-07-04T17:25:35.648Z"
   },
   {
    "duration": 0,
    "start_time": "2024-07-04T17:25:35.650Z"
   },
   {
    "duration": 0,
    "start_time": "2024-07-04T17:25:35.653Z"
   },
   {
    "duration": 1,
    "start_time": "2024-07-04T17:25:35.654Z"
   },
   {
    "duration": 0,
    "start_time": "2024-07-04T17:25:35.656Z"
   },
   {
    "duration": 0,
    "start_time": "2024-07-04T17:25:35.658Z"
   },
   {
    "duration": 0,
    "start_time": "2024-07-04T17:25:35.660Z"
   },
   {
    "duration": 0,
    "start_time": "2024-07-04T17:25:35.662Z"
   },
   {
    "duration": 0,
    "start_time": "2024-07-04T17:25:35.712Z"
   },
   {
    "duration": 6,
    "start_time": "2024-07-04T17:25:52.429Z"
   },
   {
    "duration": 29,
    "start_time": "2024-07-04T17:27:53.942Z"
   },
   {
    "duration": 26,
    "start_time": "2024-07-04T17:28:31.630Z"
   },
   {
    "duration": 33,
    "start_time": "2024-07-04T17:28:52.096Z"
   },
   {
    "duration": 5254,
    "start_time": "2024-07-04T17:48:05.575Z"
   },
   {
    "duration": 4348,
    "start_time": "2024-07-05T11:50:32.846Z"
   },
   {
    "duration": 5238,
    "start_time": "2024-07-05T11:50:37.197Z"
   },
   {
    "duration": 18,
    "start_time": "2024-07-05T11:50:42.438Z"
   },
   {
    "duration": 5,
    "start_time": "2024-07-05T11:50:42.460Z"
   },
   {
    "duration": 19,
    "start_time": "2024-07-05T11:50:42.468Z"
   },
   {
    "duration": 15,
    "start_time": "2024-07-05T11:50:42.513Z"
   },
   {
    "duration": 6,
    "start_time": "2024-07-05T11:50:42.531Z"
   },
   {
    "duration": 6,
    "start_time": "2024-07-05T11:50:42.540Z"
   },
   {
    "duration": 69,
    "start_time": "2024-07-05T11:50:42.550Z"
   },
   {
    "duration": 5051,
    "start_time": "2024-07-05T11:50:42.626Z"
   },
   {
    "duration": 9,
    "start_time": "2024-07-05T11:50:47.680Z"
   },
   {
    "duration": 16,
    "start_time": "2024-07-05T11:50:47.692Z"
   },
   {
    "duration": 0,
    "start_time": "2024-07-05T11:50:47.713Z"
   },
   {
    "duration": 0,
    "start_time": "2024-07-05T11:50:47.716Z"
   },
   {
    "duration": 0,
    "start_time": "2024-07-05T11:50:47.719Z"
   },
   {
    "duration": 0,
    "start_time": "2024-07-05T11:50:47.721Z"
   },
   {
    "duration": 0,
    "start_time": "2024-07-05T11:50:47.724Z"
   },
   {
    "duration": 0,
    "start_time": "2024-07-05T11:50:47.727Z"
   },
   {
    "duration": 0,
    "start_time": "2024-07-05T11:50:47.730Z"
   },
   {
    "duration": 0,
    "start_time": "2024-07-05T11:50:47.733Z"
   },
   {
    "duration": 0,
    "start_time": "2024-07-05T11:50:47.735Z"
   },
   {
    "duration": 0,
    "start_time": "2024-07-05T11:50:47.737Z"
   },
   {
    "duration": 0,
    "start_time": "2024-07-05T11:50:47.739Z"
   },
   {
    "duration": 0,
    "start_time": "2024-07-05T11:50:47.742Z"
   },
   {
    "duration": 0,
    "start_time": "2024-07-05T11:50:47.744Z"
   },
   {
    "duration": 3,
    "start_time": "2024-07-05T12:18:07.391Z"
   },
   {
    "duration": 7,
    "start_time": "2024-07-05T12:37:10.709Z"
   },
   {
    "duration": 21,
    "start_time": "2024-07-05T12:38:18.837Z"
   },
   {
    "duration": 19,
    "start_time": "2024-07-05T12:38:22.091Z"
   },
   {
    "duration": 545,
    "start_time": "2024-07-05T12:45:18.308Z"
   },
   {
    "duration": 34,
    "start_time": "2024-07-05T12:45:36.478Z"
   },
   {
    "duration": 27,
    "start_time": "2024-07-05T12:45:57.886Z"
   },
   {
    "duration": 64,
    "start_time": "2024-07-05T12:46:03.923Z"
   },
   {
    "duration": 8,
    "start_time": "2024-07-05T12:47:17.238Z"
   },
   {
    "duration": 18,
    "start_time": "2024-07-05T12:47:19.827Z"
   },
   {
    "duration": 25,
    "start_time": "2024-07-05T12:47:20.274Z"
   },
   {
    "duration": 340,
    "start_time": "2024-07-05T12:47:24.160Z"
   },
   {
    "duration": 88,
    "start_time": "2024-07-05T12:48:04.371Z"
   },
   {
    "duration": 10,
    "start_time": "2024-07-05T12:48:12.163Z"
   },
   {
    "duration": 70,
    "start_time": "2024-07-05T12:48:15.268Z"
   },
   {
    "duration": 13,
    "start_time": "2024-07-05T12:49:45.827Z"
   },
   {
    "duration": 16,
    "start_time": "2024-07-05T12:49:48.239Z"
   },
   {
    "duration": 15,
    "start_time": "2024-07-05T12:49:48.493Z"
   },
   {
    "duration": 1414,
    "start_time": "2024-07-05T12:49:51.529Z"
   },
   {
    "duration": 112,
    "start_time": "2024-07-05T12:50:44.657Z"
   },
   {
    "duration": 10,
    "start_time": "2024-07-05T12:54:14.239Z"
   },
   {
    "duration": 18,
    "start_time": "2024-07-05T12:54:16.341Z"
   },
   {
    "duration": 14,
    "start_time": "2024-07-05T12:54:16.969Z"
   },
   {
    "duration": 217,
    "start_time": "2024-07-05T12:54:20.315Z"
   },
   {
    "duration": 131,
    "start_time": "2024-07-05T12:57:14.579Z"
   },
   {
    "duration": 7,
    "start_time": "2024-07-05T13:05:06.930Z"
   },
   {
    "duration": 26,
    "start_time": "2024-07-05T13:05:10.072Z"
   },
   {
    "duration": 43,
    "start_time": "2024-07-05T13:09:47.186Z"
   },
   {
    "duration": 39,
    "start_time": "2024-07-05T13:10:02.632Z"
   },
   {
    "duration": 50,
    "start_time": "2024-07-05T13:10:20.890Z"
   },
   {
    "duration": 31,
    "start_time": "2024-07-05T13:10:51.600Z"
   },
   {
    "duration": 15,
    "start_time": "2024-07-05T13:15:44.330Z"
   },
   {
    "duration": 29,
    "start_time": "2024-07-05T13:15:57.061Z"
   },
   {
    "duration": 15,
    "start_time": "2024-07-05T13:16:06.204Z"
   },
   {
    "duration": 29,
    "start_time": "2024-07-05T13:16:22.011Z"
   },
   {
    "duration": 24,
    "start_time": "2024-07-05T13:16:35.650Z"
   },
   {
    "duration": 39,
    "start_time": "2024-07-05T13:16:45.209Z"
   },
   {
    "duration": 25,
    "start_time": "2024-07-05T13:16:54.713Z"
   },
   {
    "duration": 45,
    "start_time": "2024-07-05T13:17:02.310Z"
   },
   {
    "duration": 7,
    "start_time": "2024-07-05T13:19:11.122Z"
   },
   {
    "duration": 683,
    "start_time": "2024-07-05T13:22:23.666Z"
   },
   {
    "duration": 239,
    "start_time": "2024-07-05T13:28:07.762Z"
   },
   {
    "duration": 37,
    "start_time": "2024-07-05T13:29:14.586Z"
   },
   {
    "duration": 322,
    "start_time": "2024-07-05T13:29:26.279Z"
   },
   {
    "duration": 255,
    "start_time": "2024-07-05T13:31:51.383Z"
   },
   {
    "duration": 432,
    "start_time": "2024-07-05T13:32:49.771Z"
   },
   {
    "duration": 335,
    "start_time": "2024-07-05T13:33:33.137Z"
   },
   {
    "duration": 220,
    "start_time": "2024-07-05T13:34:07.856Z"
   },
   {
    "duration": 180,
    "start_time": "2024-07-05T13:34:32.740Z"
   },
   {
    "duration": 182,
    "start_time": "2024-07-05T13:37:59.323Z"
   },
   {
    "duration": 181,
    "start_time": "2024-07-05T13:40:04.593Z"
   },
   {
    "duration": 22,
    "start_time": "2024-07-05T13:41:27.600Z"
   },
   {
    "duration": 42,
    "start_time": "2024-07-05T13:41:36.360Z"
   },
   {
    "duration": 24,
    "start_time": "2024-07-05T13:41:43.266Z"
   },
   {
    "duration": 39,
    "start_time": "2024-07-05T13:41:50.872Z"
   },
   {
    "duration": 1052,
    "start_time": "2024-07-05T13:47:24.908Z"
   },
   {
    "duration": 34,
    "start_time": "2024-07-05T13:47:48.770Z"
   },
   {
    "duration": 33,
    "start_time": "2024-07-05T13:48:13.130Z"
   },
   {
    "duration": 41,
    "start_time": "2024-07-05T13:48:33.483Z"
   },
   {
    "duration": 122,
    "start_time": "2024-07-05T13:49:07.162Z"
   },
   {
    "duration": 5,
    "start_time": "2024-07-05T13:50:50.258Z"
   },
   {
    "duration": 15,
    "start_time": "2024-07-05T13:51:02.979Z"
   },
   {
    "duration": 24,
    "start_time": "2024-07-05T13:52:13.872Z"
   },
   {
    "duration": 13,
    "start_time": "2024-07-05T13:53:11.488Z"
   },
   {
    "duration": 8,
    "start_time": "2024-07-05T13:54:08.109Z"
   },
   {
    "duration": 20,
    "start_time": "2024-07-05T13:54:14.041Z"
   },
   {
    "duration": 10,
    "start_time": "2024-07-05T13:54:32.725Z"
   },
   {
    "duration": 17,
    "start_time": "2024-07-05T13:54:51.864Z"
   },
   {
    "duration": 15,
    "start_time": "2024-07-05T13:56:02.799Z"
   },
   {
    "duration": 17,
    "start_time": "2024-07-05T13:56:49.895Z"
   },
   {
    "duration": 204,
    "start_time": "2024-07-05T13:57:14.749Z"
   },
   {
    "duration": 12,
    "start_time": "2024-07-05T13:58:09.666Z"
   },
   {
    "duration": 23,
    "start_time": "2024-07-05T13:59:56.757Z"
   },
   {
    "duration": 21,
    "start_time": "2024-07-05T14:02:05.769Z"
   },
   {
    "duration": 273,
    "start_time": "2024-07-05T14:02:29.631Z"
   },
   {
    "duration": 23,
    "start_time": "2024-07-05T14:03:25.652Z"
   },
   {
    "duration": 289,
    "start_time": "2024-07-05T14:04:19.190Z"
   },
   {
    "duration": 507,
    "start_time": "2024-07-05T14:06:23.897Z"
   },
   {
    "duration": 39,
    "start_time": "2024-07-05T14:07:30.944Z"
   },
   {
    "duration": 39,
    "start_time": "2024-07-05T14:07:41.392Z"
   },
   {
    "duration": 1206,
    "start_time": "2024-07-05T14:08:59.861Z"
   },
   {
    "duration": 22,
    "start_time": "2024-07-05T14:09:54.700Z"
   },
   {
    "duration": 20,
    "start_time": "2024-07-05T14:10:23.580Z"
   },
   {
    "duration": 24,
    "start_time": "2024-07-05T14:11:25.362Z"
   },
   {
    "duration": 20,
    "start_time": "2024-07-05T14:12:12.545Z"
   },
   {
    "duration": 10,
    "start_time": "2024-07-05T17:02:43.246Z"
   },
   {
    "duration": 25,
    "start_time": "2024-07-05T17:03:21.637Z"
   },
   {
    "duration": 13,
    "start_time": "2024-07-05T17:03:47.626Z"
   },
   {
    "duration": 16,
    "start_time": "2024-07-05T17:04:19.444Z"
   },
   {
    "duration": 11,
    "start_time": "2024-07-05T17:04:27.774Z"
   },
   {
    "duration": 12,
    "start_time": "2024-07-05T17:05:30.561Z"
   },
   {
    "duration": 13,
    "start_time": "2024-07-05T17:05:48.856Z"
   },
   {
    "duration": 12,
    "start_time": "2024-07-05T17:06:35.650Z"
   },
   {
    "duration": 9,
    "start_time": "2024-07-05T17:06:53.223Z"
   },
   {
    "duration": 9,
    "start_time": "2024-07-05T17:06:59.334Z"
   },
   {
    "duration": 10,
    "start_time": "2024-07-05T17:07:02.789Z"
   },
   {
    "duration": 20,
    "start_time": "2024-07-05T17:08:24.295Z"
   },
   {
    "duration": 13,
    "start_time": "2024-07-05T17:09:18.240Z"
   },
   {
    "duration": 16,
    "start_time": "2024-07-05T17:09:28.740Z"
   },
   {
    "duration": 5,
    "start_time": "2024-07-05T18:49:25.403Z"
   },
   {
    "duration": 4,
    "start_time": "2024-07-05T18:49:30.882Z"
   },
   {
    "duration": 9,
    "start_time": "2024-07-05T18:49:33.754Z"
   },
   {
    "duration": 345,
    "start_time": "2024-07-05T19:03:19.855Z"
   },
   {
    "duration": 5,
    "start_time": "2024-07-05T19:04:06.993Z"
   },
   {
    "duration": 5,
    "start_time": "2024-07-05T19:04:07.451Z"
   },
   {
    "duration": 169,
    "start_time": "2024-07-05T19:04:07.998Z"
   },
   {
    "duration": 6,
    "start_time": "2024-07-05T19:05:06.098Z"
   },
   {
    "duration": 7,
    "start_time": "2024-07-05T19:05:38.911Z"
   },
   {
    "duration": 6,
    "start_time": "2024-07-05T19:05:58.919Z"
   },
   {
    "duration": 6,
    "start_time": "2024-07-05T19:06:07.776Z"
   },
   {
    "duration": 6,
    "start_time": "2024-07-05T19:06:14.153Z"
   },
   {
    "duration": 163,
    "start_time": "2024-07-05T19:06:54.647Z"
   },
   {
    "duration": 196,
    "start_time": "2024-07-05T19:11:26.149Z"
   },
   {
    "duration": 39,
    "start_time": "2024-07-05T19:15:27.623Z"
   },
   {
    "duration": 4103,
    "start_time": "2024-07-05T19:15:41.797Z"
   },
   {
    "duration": 1622,
    "start_time": "2024-07-05T19:15:45.904Z"
   },
   {
    "duration": 12,
    "start_time": "2024-07-05T19:15:47.529Z"
   },
   {
    "duration": 5,
    "start_time": "2024-07-05T19:15:47.545Z"
   },
   {
    "duration": 22,
    "start_time": "2024-07-05T19:15:47.554Z"
   },
   {
    "duration": 45,
    "start_time": "2024-07-05T19:15:47.579Z"
   },
   {
    "duration": 5,
    "start_time": "2024-07-05T19:15:47.629Z"
   },
   {
    "duration": 7,
    "start_time": "2024-07-05T19:15:47.638Z"
   },
   {
    "duration": 72,
    "start_time": "2024-07-05T19:15:47.649Z"
   },
   {
    "duration": 4922,
    "start_time": "2024-07-05T19:15:47.727Z"
   },
   {
    "duration": 4,
    "start_time": "2024-07-05T19:15:52.653Z"
   },
   {
    "duration": 7,
    "start_time": "2024-07-05T19:15:52.660Z"
   },
   {
    "duration": 16,
    "start_time": "2024-07-05T19:15:52.670Z"
   },
   {
    "duration": 36,
    "start_time": "2024-07-05T19:15:52.689Z"
   },
   {
    "duration": 24,
    "start_time": "2024-07-05T19:15:52.728Z"
   },
   {
    "duration": 67,
    "start_time": "2024-07-05T19:15:52.755Z"
   },
   {
    "duration": 24,
    "start_time": "2024-07-05T19:15:52.825Z"
   },
   {
    "duration": 486,
    "start_time": "2024-07-05T19:15:52.853Z"
   },
   {
    "duration": 0,
    "start_time": "2024-07-05T19:15:53.342Z"
   },
   {
    "duration": 0,
    "start_time": "2024-07-05T19:15:53.343Z"
   },
   {
    "duration": 0,
    "start_time": "2024-07-05T19:15:53.347Z"
   },
   {
    "duration": 0,
    "start_time": "2024-07-05T19:15:53.349Z"
   },
   {
    "duration": 0,
    "start_time": "2024-07-05T19:15:53.352Z"
   },
   {
    "duration": 0,
    "start_time": "2024-07-05T19:15:53.354Z"
   },
   {
    "duration": 0,
    "start_time": "2024-07-05T19:15:53.356Z"
   },
   {
    "duration": 0,
    "start_time": "2024-07-05T19:15:53.358Z"
   },
   {
    "duration": 0,
    "start_time": "2024-07-05T19:15:53.361Z"
   },
   {
    "duration": 0,
    "start_time": "2024-07-05T19:15:53.364Z"
   },
   {
    "duration": 0,
    "start_time": "2024-07-05T19:15:53.366Z"
   },
   {
    "duration": 0,
    "start_time": "2024-07-05T19:15:53.412Z"
   },
   {
    "duration": 37,
    "start_time": "2024-07-05T19:16:20.177Z"
   },
   {
    "duration": 18,
    "start_time": "2024-07-05T19:16:22.819Z"
   },
   {
    "duration": 10,
    "start_time": "2024-07-05T19:16:25.777Z"
   },
   {
    "duration": 8,
    "start_time": "2024-07-05T19:16:26.207Z"
   },
   {
    "duration": 5,
    "start_time": "2024-07-05T19:16:26.993Z"
   },
   {
    "duration": 4,
    "start_time": "2024-07-05T19:16:27.653Z"
   },
   {
    "duration": 36,
    "start_time": "2024-07-05T19:16:28.587Z"
   },
   {
    "duration": 4745,
    "start_time": "2024-07-06T15:09:52.651Z"
   },
   {
    "duration": 5366,
    "start_time": "2024-07-06T15:09:57.401Z"
   },
   {
    "duration": 20,
    "start_time": "2024-07-06T15:10:02.771Z"
   },
   {
    "duration": 6,
    "start_time": "2024-07-06T15:10:02.796Z"
   },
   {
    "duration": 22,
    "start_time": "2024-07-06T15:10:02.823Z"
   },
   {
    "duration": 18,
    "start_time": "2024-07-06T15:10:02.848Z"
   },
   {
    "duration": 6,
    "start_time": "2024-07-06T15:10:02.869Z"
   },
   {
    "duration": 7,
    "start_time": "2024-07-06T15:10:02.922Z"
   },
   {
    "duration": 37,
    "start_time": "2024-07-06T15:10:02.932Z"
   },
   {
    "duration": 5312,
    "start_time": "2024-07-06T15:10:03.024Z"
   },
   {
    "duration": 4,
    "start_time": "2024-07-06T15:10:08.339Z"
   },
   {
    "duration": 9,
    "start_time": "2024-07-06T15:10:08.347Z"
   },
   {
    "duration": 63,
    "start_time": "2024-07-06T15:10:08.360Z"
   },
   {
    "duration": 121,
    "start_time": "2024-07-06T15:10:08.426Z"
   },
   {
    "duration": 27,
    "start_time": "2024-07-06T15:10:08.550Z"
   },
   {
    "duration": 73,
    "start_time": "2024-07-06T15:10:08.581Z"
   },
   {
    "duration": 25,
    "start_time": "2024-07-06T15:10:08.657Z"
   },
   {
    "duration": 73,
    "start_time": "2024-07-06T15:10:08.685Z"
   },
   {
    "duration": 21,
    "start_time": "2024-07-06T15:10:08.761Z"
   },
   {
    "duration": 41,
    "start_time": "2024-07-06T15:10:08.786Z"
   },
   {
    "duration": 10,
    "start_time": "2024-07-06T15:10:08.830Z"
   },
   {
    "duration": 8,
    "start_time": "2024-07-06T15:10:08.844Z"
   },
   {
    "duration": 6,
    "start_time": "2024-07-06T15:10:08.856Z"
   },
   {
    "duration": 40,
    "start_time": "2024-07-06T15:10:08.922Z"
   },
   {
    "duration": 13,
    "start_time": "2024-07-06T15:10:08.965Z"
   },
   {
    "duration": 0,
    "start_time": "2024-07-06T15:10:08.981Z"
   },
   {
    "duration": 0,
    "start_time": "2024-07-06T15:10:08.985Z"
   },
   {
    "duration": 1,
    "start_time": "2024-07-06T15:10:08.987Z"
   },
   {
    "duration": 0,
    "start_time": "2024-07-06T15:10:08.989Z"
   },
   {
    "duration": 0,
    "start_time": "2024-07-06T15:10:09.024Z"
   },
   {
    "duration": 460,
    "start_time": "2024-07-06T15:16:18.547Z"
   },
   {
    "duration": 37,
    "start_time": "2024-07-06T15:20:02.571Z"
   },
   {
    "duration": 5,
    "start_time": "2024-07-06T15:20:15.203Z"
   },
   {
    "duration": 22,
    "start_time": "2024-07-06T15:21:20.050Z"
   },
   {
    "duration": 37,
    "start_time": "2024-07-06T15:24:15.227Z"
   },
   {
    "duration": 5,
    "start_time": "2024-07-06T15:25:58.302Z"
   },
   {
    "duration": 2120,
    "start_time": "2024-07-06T15:26:06.426Z"
   },
   {
    "duration": 2053,
    "start_time": "2024-07-06T15:27:07.441Z"
   },
   {
    "duration": 5,
    "start_time": "2024-07-06T15:29:44.037Z"
   },
   {
    "duration": 40,
    "start_time": "2024-07-06T15:29:47.211Z"
   },
   {
    "duration": 4274,
    "start_time": "2024-07-06T15:30:46.409Z"
   },
   {
    "duration": 1693,
    "start_time": "2024-07-06T15:30:50.688Z"
   },
   {
    "duration": 17,
    "start_time": "2024-07-06T15:30:52.384Z"
   },
   {
    "duration": 18,
    "start_time": "2024-07-06T15:30:52.407Z"
   },
   {
    "duration": 23,
    "start_time": "2024-07-06T15:30:52.429Z"
   },
   {
    "duration": 19,
    "start_time": "2024-07-06T15:30:52.456Z"
   },
   {
    "duration": 6,
    "start_time": "2024-07-06T15:30:52.523Z"
   },
   {
    "duration": 7,
    "start_time": "2024-07-06T15:30:52.534Z"
   },
   {
    "duration": 33,
    "start_time": "2024-07-06T15:30:52.545Z"
   },
   {
    "duration": 5214,
    "start_time": "2024-07-06T15:30:52.628Z"
   },
   {
    "duration": 4,
    "start_time": "2024-07-06T15:30:57.845Z"
   },
   {
    "duration": 9,
    "start_time": "2024-07-06T15:30:57.853Z"
   },
   {
    "duration": 60,
    "start_time": "2024-07-06T15:30:57.866Z"
   },
   {
    "duration": 16,
    "start_time": "2024-07-06T15:30:57.929Z"
   },
   {
    "duration": 24,
    "start_time": "2024-07-06T15:30:57.949Z"
   },
   {
    "duration": 79,
    "start_time": "2024-07-06T15:30:57.977Z"
   },
   {
    "duration": 28,
    "start_time": "2024-07-06T15:30:58.059Z"
   },
   {
    "duration": 74,
    "start_time": "2024-07-06T15:30:58.090Z"
   },
   {
    "duration": 25,
    "start_time": "2024-07-06T15:30:58.168Z"
   },
   {
    "duration": 25,
    "start_time": "2024-07-06T15:30:58.225Z"
   },
   {
    "duration": 11,
    "start_time": "2024-07-06T15:30:58.253Z"
   },
   {
    "duration": 2096,
    "start_time": "2024-07-06T15:30:58.268Z"
   },
   {
    "duration": 5,
    "start_time": "2024-07-06T15:31:00.367Z"
   },
   {
    "duration": 77,
    "start_time": "2024-07-06T15:31:00.377Z"
   },
   {
    "duration": 7,
    "start_time": "2024-07-06T15:31:00.462Z"
   },
   {
    "duration": 0,
    "start_time": "2024-07-06T15:31:00.473Z"
   },
   {
    "duration": 0,
    "start_time": "2024-07-06T15:31:00.476Z"
   },
   {
    "duration": 0,
    "start_time": "2024-07-06T15:31:00.479Z"
   },
   {
    "duration": 0,
    "start_time": "2024-07-06T15:31:00.481Z"
   },
   {
    "duration": 0,
    "start_time": "2024-07-06T15:31:00.483Z"
   },
   {
    "duration": 58,
    "start_time": "2024-07-06T15:33:35.286Z"
   },
   {
    "duration": 57,
    "start_time": "2024-07-06T15:34:03.051Z"
   },
   {
    "duration": 40,
    "start_time": "2024-07-06T15:34:47.635Z"
   },
   {
    "duration": 589,
    "start_time": "2024-07-06T15:40:37.423Z"
   },
   {
    "duration": 160,
    "start_time": "2024-07-06T15:42:26.013Z"
   },
   {
    "duration": 1843,
    "start_time": "2024-07-06T15:45:30.755Z"
   },
   {
    "duration": 1883,
    "start_time": "2024-07-06T15:47:09.436Z"
   },
   {
    "duration": 2073,
    "start_time": "2024-07-06T15:47:47.607Z"
   },
   {
    "duration": 4345,
    "start_time": "2024-07-06T15:48:08.396Z"
   },
   {
    "duration": 1667,
    "start_time": "2024-07-06T15:48:12.747Z"
   },
   {
    "duration": 14,
    "start_time": "2024-07-06T15:48:14.423Z"
   },
   {
    "duration": 6,
    "start_time": "2024-07-06T15:48:14.443Z"
   },
   {
    "duration": 26,
    "start_time": "2024-07-06T15:48:14.453Z"
   },
   {
    "duration": 17,
    "start_time": "2024-07-06T15:48:14.522Z"
   },
   {
    "duration": 5,
    "start_time": "2024-07-06T15:48:14.543Z"
   },
   {
    "duration": 6,
    "start_time": "2024-07-06T15:48:14.552Z"
   },
   {
    "duration": 84,
    "start_time": "2024-07-06T15:48:14.561Z"
   },
   {
    "duration": 5353,
    "start_time": "2024-07-06T15:48:14.651Z"
   },
   {
    "duration": 19,
    "start_time": "2024-07-06T15:48:20.008Z"
   },
   {
    "duration": 8,
    "start_time": "2024-07-06T15:48:20.033Z"
   },
   {
    "duration": 18,
    "start_time": "2024-07-06T15:48:20.044Z"
   },
   {
    "duration": 59,
    "start_time": "2024-07-06T15:48:20.065Z"
   },
   {
    "duration": 30,
    "start_time": "2024-07-06T15:48:20.128Z"
   },
   {
    "duration": 78,
    "start_time": "2024-07-06T15:48:20.162Z"
   },
   {
    "duration": 27,
    "start_time": "2024-07-06T15:48:20.244Z"
   },
   {
    "duration": 84,
    "start_time": "2024-07-06T15:48:20.275Z"
   },
   {
    "duration": 21,
    "start_time": "2024-07-06T15:48:20.362Z"
   },
   {
    "duration": 61,
    "start_time": "2024-07-06T15:48:20.387Z"
   },
   {
    "duration": 9,
    "start_time": "2024-07-06T15:48:20.452Z"
   },
   {
    "duration": 2017,
    "start_time": "2024-07-06T15:48:20.464Z"
   },
   {
    "duration": 5,
    "start_time": "2024-07-06T15:48:22.485Z"
   },
   {
    "duration": 62,
    "start_time": "2024-07-06T15:48:22.495Z"
   },
   {
    "duration": 8,
    "start_time": "2024-07-06T15:48:22.560Z"
   },
   {
    "duration": 0,
    "start_time": "2024-07-06T15:48:22.576Z"
   },
   {
    "duration": 0,
    "start_time": "2024-07-06T15:48:22.578Z"
   },
   {
    "duration": 0,
    "start_time": "2024-07-06T15:48:22.580Z"
   },
   {
    "duration": 0,
    "start_time": "2024-07-06T15:48:22.622Z"
   },
   {
    "duration": 0,
    "start_time": "2024-07-06T15:48:22.624Z"
   },
   {
    "duration": 1935,
    "start_time": "2024-07-06T15:49:01.929Z"
   },
   {
    "duration": 2019,
    "start_time": "2024-07-06T15:50:17.635Z"
   },
   {
    "duration": 4,
    "start_time": "2024-07-06T15:57:53.962Z"
   },
   {
    "duration": 37,
    "start_time": "2024-07-06T15:57:54.491Z"
   },
   {
    "duration": 4781,
    "start_time": "2024-07-06T21:07:40.548Z"
   },
   {
    "duration": 5547,
    "start_time": "2024-07-06T21:07:45.334Z"
   },
   {
    "duration": 29,
    "start_time": "2024-07-06T21:07:50.885Z"
   },
   {
    "duration": 6,
    "start_time": "2024-07-06T21:07:50.919Z"
   },
   {
    "duration": 20,
    "start_time": "2024-07-06T21:07:50.929Z"
   },
   {
    "duration": 17,
    "start_time": "2024-07-06T21:07:50.953Z"
   },
   {
    "duration": 29,
    "start_time": "2024-07-06T21:07:50.973Z"
   },
   {
    "duration": 7,
    "start_time": "2024-07-06T21:07:51.009Z"
   },
   {
    "duration": 34,
    "start_time": "2024-07-06T21:07:51.020Z"
   },
   {
    "duration": 5488,
    "start_time": "2024-07-06T21:07:51.062Z"
   },
   {
    "duration": 4,
    "start_time": "2024-07-06T21:07:56.554Z"
   },
   {
    "duration": 7,
    "start_time": "2024-07-06T21:07:56.561Z"
   },
   {
    "duration": 15,
    "start_time": "2024-07-06T21:07:56.572Z"
   },
   {
    "duration": 38,
    "start_time": "2024-07-06T21:07:56.590Z"
   },
   {
    "duration": 24,
    "start_time": "2024-07-06T21:07:56.631Z"
   },
   {
    "duration": 38,
    "start_time": "2024-07-06T21:07:56.659Z"
   },
   {
    "duration": 47,
    "start_time": "2024-07-06T21:07:56.703Z"
   },
   {
    "duration": 44,
    "start_time": "2024-07-06T21:07:56.753Z"
   },
   {
    "duration": 32,
    "start_time": "2024-07-06T21:07:56.812Z"
   },
   {
    "duration": 29,
    "start_time": "2024-07-06T21:07:56.848Z"
   },
   {
    "duration": 23,
    "start_time": "2024-07-06T21:07:56.883Z"
   },
   {
    "duration": 1993,
    "start_time": "2024-07-06T21:07:56.915Z"
   },
   {
    "duration": 20,
    "start_time": "2024-07-06T21:07:58.910Z"
   },
   {
    "duration": 37,
    "start_time": "2024-07-06T21:07:58.935Z"
   },
   {
    "duration": 8,
    "start_time": "2024-07-06T21:07:58.975Z"
   },
   {
    "duration": 0,
    "start_time": "2024-07-06T21:07:58.986Z"
   },
   {
    "duration": 0,
    "start_time": "2024-07-06T21:07:59.013Z"
   },
   {
    "duration": 0,
    "start_time": "2024-07-06T21:07:59.015Z"
   },
   {
    "duration": 0,
    "start_time": "2024-07-06T21:07:59.016Z"
   },
   {
    "duration": 0,
    "start_time": "2024-07-06T21:07:59.017Z"
   },
   {
    "duration": 10,
    "start_time": "2024-07-06T21:21:17.315Z"
   },
   {
    "duration": 6,
    "start_time": "2024-07-06T21:21:33.341Z"
   },
   {
    "duration": 4331,
    "start_time": "2024-07-06T21:21:46.997Z"
   },
   {
    "duration": 1666,
    "start_time": "2024-07-06T21:21:51.332Z"
   },
   {
    "duration": 13,
    "start_time": "2024-07-06T21:21:53.001Z"
   },
   {
    "duration": 20,
    "start_time": "2024-07-06T21:21:53.017Z"
   },
   {
    "duration": 18,
    "start_time": "2024-07-06T21:21:53.042Z"
   },
   {
    "duration": 14,
    "start_time": "2024-07-06T21:21:53.063Z"
   },
   {
    "duration": 15,
    "start_time": "2024-07-06T21:21:53.105Z"
   },
   {
    "duration": 6,
    "start_time": "2024-07-06T21:21:53.134Z"
   },
   {
    "duration": 28,
    "start_time": "2024-07-06T21:21:53.144Z"
   },
   {
    "duration": 5416,
    "start_time": "2024-07-06T21:21:53.174Z"
   },
   {
    "duration": 4,
    "start_time": "2024-07-06T21:21:58.593Z"
   },
   {
    "duration": 10,
    "start_time": "2024-07-06T21:21:58.600Z"
   },
   {
    "duration": 17,
    "start_time": "2024-07-06T21:21:58.613Z"
   },
   {
    "duration": 18,
    "start_time": "2024-07-06T21:21:58.638Z"
   },
   {
    "duration": 69,
    "start_time": "2024-07-06T21:21:58.659Z"
   },
   {
    "duration": 38,
    "start_time": "2024-07-06T21:21:58.731Z"
   },
   {
    "duration": 56,
    "start_time": "2024-07-06T21:21:58.772Z"
   },
   {
    "duration": 39,
    "start_time": "2024-07-06T21:21:58.831Z"
   },
   {
    "duration": 18,
    "start_time": "2024-07-06T21:21:58.872Z"
   },
   {
    "duration": 44,
    "start_time": "2024-07-06T21:21:58.893Z"
   },
   {
    "duration": 7,
    "start_time": "2024-07-06T21:21:58.940Z"
   },
   {
    "duration": 2020,
    "start_time": "2024-07-06T21:21:58.951Z"
   },
   {
    "duration": 5,
    "start_time": "2024-07-06T21:22:00.973Z"
   },
   {
    "duration": 66,
    "start_time": "2024-07-06T21:22:00.981Z"
   },
   {
    "duration": 7,
    "start_time": "2024-07-06T21:22:01.050Z"
   },
   {
    "duration": 5,
    "start_time": "2024-07-06T21:22:01.060Z"
   },
   {
    "duration": 620,
    "start_time": "2024-07-06T21:22:01.068Z"
   },
   {
    "duration": 0,
    "start_time": "2024-07-06T21:22:01.692Z"
   },
   {
    "duration": 0,
    "start_time": "2024-07-06T21:22:01.701Z"
   },
   {
    "duration": 0,
    "start_time": "2024-07-06T21:22:01.705Z"
   },
   {
    "duration": 15,
    "start_time": "2024-07-06T21:23:55.700Z"
   },
   {
    "duration": 5,
    "start_time": "2024-07-06T21:23:57.061Z"
   },
   {
    "duration": 110,
    "start_time": "2024-07-06T21:23:59.036Z"
   },
   {
    "duration": 8,
    "start_time": "2024-07-06T21:24:37.186Z"
   },
   {
    "duration": 6,
    "start_time": "2024-07-06T21:24:38.096Z"
   },
   {
    "duration": 184,
    "start_time": "2024-07-06T21:24:39.019Z"
   },
   {
    "duration": 6,
    "start_time": "2024-07-06T21:30:13.863Z"
   },
   {
    "duration": 5,
    "start_time": "2024-07-06T21:30:15.493Z"
   },
   {
    "duration": 146,
    "start_time": "2024-07-06T21:30:16.779Z"
   },
   {
    "duration": 8,
    "start_time": "2024-07-06T21:39:41.804Z"
   },
   {
    "duration": 6,
    "start_time": "2024-07-06T21:39:42.638Z"
   },
   {
    "duration": 72,
    "start_time": "2024-07-06T21:39:43.642Z"
   },
   {
    "duration": 7,
    "start_time": "2024-07-06T21:41:28.350Z"
   },
   {
    "duration": 11,
    "start_time": "2024-07-06T21:41:29.210Z"
   },
   {
    "duration": 110,
    "start_time": "2024-07-06T21:41:30.330Z"
   },
   {
    "duration": 6,
    "start_time": "2024-07-06T21:42:17.445Z"
   },
   {
    "duration": 5,
    "start_time": "2024-07-06T21:42:17.975Z"
   },
   {
    "duration": 119,
    "start_time": "2024-07-06T21:42:19.013Z"
   },
   {
    "duration": 7,
    "start_time": "2024-07-06T21:49:00.823Z"
   },
   {
    "duration": 5,
    "start_time": "2024-07-06T21:49:01.448Z"
   },
   {
    "duration": 109,
    "start_time": "2024-07-06T21:49:04.327Z"
   },
   {
    "duration": 12,
    "start_time": "2024-07-06T21:49:29.332Z"
   },
   {
    "duration": 8,
    "start_time": "2024-07-06T21:49:35.695Z"
   },
   {
    "duration": 15,
    "start_time": "2024-07-06T21:49:38.232Z"
   },
   {
    "duration": 9,
    "start_time": "2024-07-06T21:49:38.820Z"
   },
   {
    "duration": 166,
    "start_time": "2024-07-06T21:49:39.943Z"
   },
   {
    "duration": 5,
    "start_time": "2024-07-06T21:51:58.870Z"
   },
   {
    "duration": 7,
    "start_time": "2024-07-06T21:52:13.151Z"
   },
   {
    "duration": 5,
    "start_time": "2024-07-06T21:52:13.573Z"
   },
   {
    "duration": 16,
    "start_time": "2024-07-06T21:52:14.552Z"
   },
   {
    "duration": 8,
    "start_time": "2024-07-06T21:54:02.497Z"
   },
   {
    "duration": 5,
    "start_time": "2024-07-06T21:54:02.895Z"
   },
   {
    "duration": 61,
    "start_time": "2024-07-06T21:54:03.759Z"
   },
   {
    "duration": 7,
    "start_time": "2024-07-06T21:54:18.400Z"
   },
   {
    "duration": 4,
    "start_time": "2024-07-06T21:54:19.008Z"
   },
   {
    "duration": 10,
    "start_time": "2024-07-06T21:54:19.873Z"
   },
   {
    "duration": 7,
    "start_time": "2024-07-06T21:54:45.860Z"
   },
   {
    "duration": 5,
    "start_time": "2024-07-06T21:54:46.339Z"
   },
   {
    "duration": 15,
    "start_time": "2024-07-06T21:54:47.399Z"
   },
   {
    "duration": 7,
    "start_time": "2024-07-06T22:02:31.900Z"
   },
   {
    "duration": 5,
    "start_time": "2024-07-06T22:02:32.354Z"
   },
   {
    "duration": 54,
    "start_time": "2024-07-06T22:02:32.863Z"
   },
   {
    "duration": 136,
    "start_time": "2024-07-06T22:03:32.686Z"
   },
   {
    "duration": 194,
    "start_time": "2024-07-06T22:04:20.710Z"
   },
   {
    "duration": 134,
    "start_time": "2024-07-06T22:04:49.189Z"
   },
   {
    "duration": 50,
    "start_time": "2024-07-06T22:06:35.261Z"
   },
   {
    "duration": 164,
    "start_time": "2024-07-06T22:12:48.040Z"
   },
   {
    "duration": 54,
    "start_time": "2024-07-06T22:13:02.570Z"
   },
   {
    "duration": 207,
    "start_time": "2024-07-06T22:15:20.001Z"
   },
   {
    "duration": 164,
    "start_time": "2024-07-06T22:16:52.478Z"
   },
   {
    "duration": 170,
    "start_time": "2024-07-06T22:17:09.536Z"
   },
   {
    "duration": 89,
    "start_time": "2024-07-06T22:17:28.939Z"
   },
   {
    "duration": 123,
    "start_time": "2024-07-06T22:18:27.395Z"
   },
   {
    "duration": 66,
    "start_time": "2024-07-06T22:21:59.940Z"
   },
   {
    "duration": 17,
    "start_time": "2024-07-06T22:23:20.838Z"
   },
   {
    "duration": 7,
    "start_time": "2024-07-06T22:23:27.850Z"
   },
   {
    "duration": 6,
    "start_time": "2024-07-06T22:23:28.299Z"
   },
   {
    "duration": 16,
    "start_time": "2024-07-06T22:23:28.856Z"
   },
   {
    "duration": 24,
    "start_time": "2024-07-06T22:23:46.698Z"
   },
   {
    "duration": 18,
    "start_time": "2024-07-06T22:24:27.014Z"
   },
   {
    "duration": 24,
    "start_time": "2024-07-06T22:27:56.799Z"
   },
   {
    "duration": 5,
    "start_time": "2024-07-06T22:35:21.629Z"
   },
   {
    "duration": 4,
    "start_time": "2024-07-06T22:35:22.453Z"
   },
   {
    "duration": 26,
    "start_time": "2024-07-06T22:35:50.914Z"
   },
   {
    "duration": 17,
    "start_time": "2024-07-06T22:35:57.258Z"
   },
   {
    "duration": 5,
    "start_time": "2024-07-06T22:36:17.371Z"
   },
   {
    "duration": 5,
    "start_time": "2024-07-06T22:36:24.977Z"
   },
   {
    "duration": 8,
    "start_time": "2024-07-06T22:36:29.513Z"
   },
   {
    "duration": 8,
    "start_time": "2024-07-06T22:36:54.856Z"
   },
   {
    "duration": 4298,
    "start_time": "2024-07-07T14:57:02.443Z"
   },
   {
    "duration": 5107,
    "start_time": "2024-07-07T14:57:06.744Z"
   },
   {
    "duration": 17,
    "start_time": "2024-07-07T14:57:11.854Z"
   },
   {
    "duration": 4,
    "start_time": "2024-07-07T14:57:11.876Z"
   },
   {
    "duration": 34,
    "start_time": "2024-07-07T14:57:11.883Z"
   },
   {
    "duration": 15,
    "start_time": "2024-07-07T14:57:11.920Z"
   },
   {
    "duration": 5,
    "start_time": "2024-07-07T14:57:11.938Z"
   },
   {
    "duration": 5,
    "start_time": "2024-07-07T14:57:11.947Z"
   },
   {
    "duration": 72,
    "start_time": "2024-07-07T14:57:11.955Z"
   },
   {
    "duration": 5026,
    "start_time": "2024-07-07T14:57:12.032Z"
   },
   {
    "duration": 4,
    "start_time": "2024-07-07T14:57:17.061Z"
   },
   {
    "duration": 8,
    "start_time": "2024-07-07T14:57:17.069Z"
   },
   {
    "duration": 28,
    "start_time": "2024-07-07T14:57:17.081Z"
   },
   {
    "duration": 16,
    "start_time": "2024-07-07T14:57:17.112Z"
   },
   {
    "duration": 23,
    "start_time": "2024-07-07T14:57:17.131Z"
   },
   {
    "duration": 71,
    "start_time": "2024-07-07T14:57:17.157Z"
   },
   {
    "duration": 22,
    "start_time": "2024-07-07T14:57:17.231Z"
   },
   {
    "duration": 63,
    "start_time": "2024-07-07T14:57:17.256Z"
   },
   {
    "duration": 18,
    "start_time": "2024-07-07T14:57:17.322Z"
   },
   {
    "duration": 21,
    "start_time": "2024-07-07T14:57:17.343Z"
   },
   {
    "duration": 41,
    "start_time": "2024-07-07T14:57:17.367Z"
   },
   {
    "duration": 2014,
    "start_time": "2024-07-07T14:57:17.411Z"
   },
   {
    "duration": 5,
    "start_time": "2024-07-07T14:57:19.428Z"
   },
   {
    "duration": 36,
    "start_time": "2024-07-07T14:57:19.436Z"
   },
   {
    "duration": 7,
    "start_time": "2024-07-07T14:57:19.503Z"
   },
   {
    "duration": 4,
    "start_time": "2024-07-07T14:57:19.514Z"
   },
   {
    "duration": 20,
    "start_time": "2024-07-07T14:57:19.522Z"
   },
   {
    "duration": 5,
    "start_time": "2024-07-07T14:57:19.606Z"
   },
   {
    "duration": 9,
    "start_time": "2024-07-07T14:57:19.614Z"
   },
   {
    "duration": 78,
    "start_time": "2024-07-07T14:57:19.626Z"
   },
   {
    "duration": 3953,
    "start_time": "2024-07-07T14:57:34.479Z"
   },
   {
    "duration": 1562,
    "start_time": "2024-07-07T14:57:38.436Z"
   },
   {
    "duration": 11,
    "start_time": "2024-07-07T14:57:40.002Z"
   },
   {
    "duration": 7,
    "start_time": "2024-07-07T14:57:40.016Z"
   },
   {
    "duration": 23,
    "start_time": "2024-07-07T14:57:40.028Z"
   },
   {
    "duration": 52,
    "start_time": "2024-07-07T14:57:40.055Z"
   },
   {
    "duration": 5,
    "start_time": "2024-07-07T14:57:40.110Z"
   },
   {
    "duration": 5,
    "start_time": "2024-07-07T14:57:40.119Z"
   },
   {
    "duration": 30,
    "start_time": "2024-07-07T14:57:40.127Z"
   },
   {
    "duration": 5010,
    "start_time": "2024-07-07T14:57:40.160Z"
   },
   {
    "duration": 4,
    "start_time": "2024-07-07T14:57:45.173Z"
   },
   {
    "duration": 7,
    "start_time": "2024-07-07T14:57:45.180Z"
   },
   {
    "duration": 23,
    "start_time": "2024-07-07T14:57:45.190Z"
   },
   {
    "duration": 13,
    "start_time": "2024-07-07T14:57:45.219Z"
   },
   {
    "duration": 23,
    "start_time": "2024-07-07T14:57:45.235Z"
   },
   {
    "duration": 75,
    "start_time": "2024-07-07T14:57:45.261Z"
   },
   {
    "duration": 23,
    "start_time": "2024-07-07T14:57:45.339Z"
   },
   {
    "duration": 66,
    "start_time": "2024-07-07T14:57:45.365Z"
   },
   {
    "duration": 18,
    "start_time": "2024-07-07T14:57:45.434Z"
   },
   {
    "duration": 51,
    "start_time": "2024-07-07T14:57:45.455Z"
   },
   {
    "duration": 10,
    "start_time": "2024-07-07T14:57:45.511Z"
   },
   {
    "duration": 2034,
    "start_time": "2024-07-07T14:57:45.526Z"
   },
   {
    "duration": 5,
    "start_time": "2024-07-07T14:57:47.563Z"
   },
   {
    "duration": 65,
    "start_time": "2024-07-07T14:57:47.571Z"
   },
   {
    "duration": 6,
    "start_time": "2024-07-07T14:57:47.642Z"
   },
   {
    "duration": 6,
    "start_time": "2024-07-07T14:57:47.651Z"
   },
   {
    "duration": 49,
    "start_time": "2024-07-07T14:57:47.660Z"
   },
   {
    "duration": 6,
    "start_time": "2024-07-07T14:57:47.712Z"
   },
   {
    "duration": 80,
    "start_time": "2024-07-07T14:57:47.722Z"
   },
   {
    "duration": 8,
    "start_time": "2024-07-07T14:57:47.806Z"
   },
   {
    "duration": 5,
    "start_time": "2024-07-07T14:59:34.095Z"
   },
   {
    "duration": 8,
    "start_time": "2024-07-07T14:59:39.892Z"
   },
   {
    "duration": 443,
    "start_time": "2024-07-07T15:01:58.624Z"
   },
   {
    "duration": 4,
    "start_time": "2024-07-07T15:02:09.579Z"
   },
   {
    "duration": 7,
    "start_time": "2024-07-07T15:02:15.915Z"
   },
   {
    "duration": 6,
    "start_time": "2024-07-07T15:02:58.334Z"
   },
   {
    "duration": 7,
    "start_time": "2024-07-07T15:05:00.528Z"
   },
   {
    "duration": 5,
    "start_time": "2024-07-07T15:05:16.454Z"
   },
   {
    "duration": 5,
    "start_time": "2024-07-07T15:05:29.842Z"
   },
   {
    "duration": 24,
    "start_time": "2024-07-07T15:06:25.655Z"
   },
   {
    "duration": 24,
    "start_time": "2024-07-07T15:09:15.769Z"
   },
   {
    "duration": 7,
    "start_time": "2024-07-07T15:09:35.745Z"
   },
   {
    "duration": 5,
    "start_time": "2024-07-07T15:10:03.936Z"
   },
   {
    "duration": 23,
    "start_time": "2024-07-07T15:10:24.167Z"
   },
   {
    "duration": 22,
    "start_time": "2024-07-07T15:10:36.947Z"
   },
   {
    "duration": 4,
    "start_time": "2024-07-07T15:11:33.600Z"
   },
   {
    "duration": 8,
    "start_time": "2024-07-07T15:11:42.572Z"
   },
   {
    "duration": 6,
    "start_time": "2024-07-07T15:12:15.705Z"
   },
   {
    "duration": 6,
    "start_time": "2024-07-07T15:12:47.582Z"
   },
   {
    "duration": 8,
    "start_time": "2024-07-07T15:13:05.447Z"
   },
   {
    "duration": 8,
    "start_time": "2024-07-07T15:13:14.215Z"
   },
   {
    "duration": 6,
    "start_time": "2024-07-07T15:14:02.838Z"
   },
   {
    "duration": 5,
    "start_time": "2024-07-07T15:15:15.317Z"
   },
   {
    "duration": 6,
    "start_time": "2024-07-07T15:15:24.806Z"
   },
   {
    "duration": 7,
    "start_time": "2024-07-07T15:17:06.208Z"
   },
   {
    "duration": 7,
    "start_time": "2024-07-07T15:17:16.688Z"
   },
   {
    "duration": 6,
    "start_time": "2024-07-07T15:17:57.249Z"
   },
   {
    "duration": 8,
    "start_time": "2024-07-07T15:18:07.142Z"
   },
   {
    "duration": 38,
    "start_time": "2024-07-07T15:18:16.797Z"
   },
   {
    "duration": 6,
    "start_time": "2024-07-07T15:20:07.320Z"
   },
   {
    "duration": 5,
    "start_time": "2024-07-07T15:20:21.364Z"
   },
   {
    "duration": 26,
    "start_time": "2024-07-07T15:23:31.912Z"
   },
   {
    "duration": 26,
    "start_time": "2024-07-07T15:23:41.642Z"
   },
   {
    "duration": 27,
    "start_time": "2024-07-07T15:25:01.287Z"
   },
   {
    "duration": 27,
    "start_time": "2024-07-07T15:25:34.690Z"
   },
   {
    "duration": 5,
    "start_time": "2024-07-07T15:25:37.274Z"
   },
   {
    "duration": 6,
    "start_time": "2024-07-07T15:25:39.824Z"
   },
   {
    "duration": 6,
    "start_time": "2024-07-07T15:27:01.043Z"
   },
   {
    "duration": 7,
    "start_time": "2024-07-07T15:27:14.866Z"
   },
   {
    "duration": 5,
    "start_time": "2024-07-07T15:27:48.954Z"
   },
   {
    "duration": 7,
    "start_time": "2024-07-07T15:29:35.795Z"
   },
   {
    "duration": 8,
    "start_time": "2024-07-07T15:31:41.060Z"
   },
   {
    "duration": 10,
    "start_time": "2024-07-07T15:32:32.387Z"
   },
   {
    "duration": 8,
    "start_time": "2024-07-07T15:32:47.773Z"
   },
   {
    "duration": 8,
    "start_time": "2024-07-07T15:34:10.772Z"
   },
   {
    "duration": 7,
    "start_time": "2024-07-07T15:48:29.871Z"
   },
   {
    "duration": 4419,
    "start_time": "2024-07-08T13:32:46.874Z"
   },
   {
    "duration": 5185,
    "start_time": "2024-07-08T13:32:51.297Z"
   },
   {
    "duration": 16,
    "start_time": "2024-07-08T13:32:56.486Z"
   },
   {
    "duration": 7,
    "start_time": "2024-07-08T13:32:56.505Z"
   },
   {
    "duration": 17,
    "start_time": "2024-07-08T13:32:56.517Z"
   },
   {
    "duration": 15,
    "start_time": "2024-07-08T13:32:56.537Z"
   },
   {
    "duration": 5,
    "start_time": "2024-07-08T13:32:56.556Z"
   },
   {
    "duration": 6,
    "start_time": "2024-07-08T13:32:56.603Z"
   },
   {
    "duration": 32,
    "start_time": "2024-07-08T13:32:56.612Z"
   },
   {
    "duration": 4903,
    "start_time": "2024-07-08T13:32:56.647Z"
   },
   {
    "duration": 4,
    "start_time": "2024-07-08T13:33:01.553Z"
   },
   {
    "duration": 7,
    "start_time": "2024-07-08T13:33:01.561Z"
   },
   {
    "duration": 14,
    "start_time": "2024-07-08T13:33:01.570Z"
   },
   {
    "duration": 14,
    "start_time": "2024-07-08T13:33:01.602Z"
   },
   {
    "duration": 23,
    "start_time": "2024-07-08T13:33:01.619Z"
   },
   {
    "duration": 70,
    "start_time": "2024-07-08T13:33:01.645Z"
   },
   {
    "duration": 23,
    "start_time": "2024-07-08T13:33:01.718Z"
   },
   {
    "duration": 64,
    "start_time": "2024-07-08T13:33:01.744Z"
   },
   {
    "duration": 17,
    "start_time": "2024-07-08T13:33:01.811Z"
   },
   {
    "duration": 24,
    "start_time": "2024-07-08T13:33:01.831Z"
   },
   {
    "duration": 45,
    "start_time": "2024-07-08T13:33:01.858Z"
   },
   {
    "duration": 1928,
    "start_time": "2024-07-08T13:33:01.906Z"
   },
   {
    "duration": 5,
    "start_time": "2024-07-08T13:33:03.837Z"
   },
   {
    "duration": 58,
    "start_time": "2024-07-08T13:33:03.845Z"
   },
   {
    "duration": 7,
    "start_time": "2024-07-08T13:33:03.906Z"
   },
   {
    "duration": 5,
    "start_time": "2024-07-08T13:33:03.916Z"
   },
   {
    "duration": 19,
    "start_time": "2024-07-08T13:33:03.925Z"
   },
   {
    "duration": 58,
    "start_time": "2024-07-08T13:33:03.947Z"
   },
   {
    "duration": 13,
    "start_time": "2024-07-08T13:33:04.008Z"
   },
   {
    "duration": 81,
    "start_time": "2024-07-08T13:33:04.023Z"
   },
   {
    "duration": 10,
    "start_time": "2024-07-08T13:33:04.107Z"
   },
   {
    "duration": 15,
    "start_time": "2024-07-08T13:33:04.119Z"
   },
   {
    "duration": 11,
    "start_time": "2024-07-08T13:33:04.201Z"
   },
   {
    "duration": 9,
    "start_time": "2024-07-08T13:33:04.215Z"
   },
   {
    "duration": 8,
    "start_time": "2024-07-08T13:33:04.302Z"
   },
   {
    "duration": 5,
    "start_time": "2024-07-08T13:57:52.619Z"
   },
   {
    "duration": 5,
    "start_time": "2024-07-08T13:57:59.923Z"
   },
   {
    "duration": 7,
    "start_time": "2024-07-08T13:58:06.960Z"
   },
   {
    "duration": 8,
    "start_time": "2024-07-08T13:58:47.967Z"
   },
   {
    "duration": 5,
    "start_time": "2024-07-08T13:59:29.464Z"
   },
   {
    "duration": 7,
    "start_time": "2024-07-08T14:02:20.128Z"
   },
   {
    "duration": 4,
    "start_time": "2024-07-08T14:03:16.882Z"
   },
   {
    "duration": 18,
    "start_time": "2024-07-08T14:06:29.949Z"
   },
   {
    "duration": 7,
    "start_time": "2024-07-08T14:10:29.634Z"
   },
   {
    "duration": 3971,
    "start_time": "2024-07-08T14:14:50.810Z"
   },
   {
    "duration": 1786,
    "start_time": "2024-07-08T14:14:54.785Z"
   },
   {
    "duration": 12,
    "start_time": "2024-07-08T14:14:56.573Z"
   },
   {
    "duration": 14,
    "start_time": "2024-07-08T14:14:56.589Z"
   },
   {
    "duration": 20,
    "start_time": "2024-07-08T14:14:56.606Z"
   },
   {
    "duration": 15,
    "start_time": "2024-07-08T14:14:56.629Z"
   },
   {
    "duration": 5,
    "start_time": "2024-07-08T14:14:56.647Z"
   },
   {
    "duration": 46,
    "start_time": "2024-07-08T14:14:56.655Z"
   },
   {
    "duration": 32,
    "start_time": "2024-07-08T14:14:56.705Z"
   },
   {
    "duration": 5019,
    "start_time": "2024-07-08T14:14:56.743Z"
   },
   {
    "duration": 4,
    "start_time": "2024-07-08T14:15:01.766Z"
   },
   {
    "duration": 7,
    "start_time": "2024-07-08T14:15:01.773Z"
   },
   {
    "duration": 25,
    "start_time": "2024-07-08T14:15:01.784Z"
   },
   {
    "duration": 15,
    "start_time": "2024-07-08T14:15:01.812Z"
   },
   {
    "duration": 23,
    "start_time": "2024-07-08T14:15:01.830Z"
   },
   {
    "duration": 71,
    "start_time": "2024-07-08T14:15:01.855Z"
   },
   {
    "duration": 24,
    "start_time": "2024-07-08T14:15:01.929Z"
   },
   {
    "duration": 67,
    "start_time": "2024-07-08T14:15:01.956Z"
   },
   {
    "duration": 17,
    "start_time": "2024-07-08T14:15:02.026Z"
   },
   {
    "duration": 22,
    "start_time": "2024-07-08T14:15:02.046Z"
   },
   {
    "duration": 40,
    "start_time": "2024-07-08T14:15:02.070Z"
   },
   {
    "duration": 2111,
    "start_time": "2024-07-08T14:15:02.113Z"
   },
   {
    "duration": 5,
    "start_time": "2024-07-08T14:15:04.227Z"
   },
   {
    "duration": 36,
    "start_time": "2024-07-08T14:15:04.235Z"
   },
   {
    "duration": 11,
    "start_time": "2024-07-08T14:15:04.302Z"
   },
   {
    "duration": 5,
    "start_time": "2024-07-08T14:15:04.317Z"
   },
   {
    "duration": 17,
    "start_time": "2024-07-08T14:15:04.325Z"
   },
   {
    "duration": 6,
    "start_time": "2024-07-08T14:15:04.401Z"
   },
   {
    "duration": 7,
    "start_time": "2024-07-08T14:15:04.410Z"
   },
   {
    "duration": 6,
    "start_time": "2024-07-08T14:15:04.419Z"
   },
   {
    "duration": 8,
    "start_time": "2024-07-08T14:15:04.502Z"
   },
   {
    "duration": 8,
    "start_time": "2024-07-08T14:15:04.513Z"
   },
   {
    "duration": 8,
    "start_time": "2024-07-08T14:15:04.524Z"
   },
   {
    "duration": 70,
    "start_time": "2024-07-08T14:15:04.535Z"
   },
   {
    "duration": 14,
    "start_time": "2024-07-08T14:15:04.608Z"
   },
   {
    "duration": 81,
    "start_time": "2024-07-08T14:15:04.625Z"
   },
   {
    "duration": 12,
    "start_time": "2024-07-08T14:15:04.709Z"
   },
   {
    "duration": 6,
    "start_time": "2024-07-08T14:15:04.723Z"
   },
   {
    "duration": 76,
    "start_time": "2024-07-08T14:15:04.731Z"
   },
   {
    "duration": 4,
    "start_time": "2024-07-08T14:15:04.811Z"
   },
   {
    "duration": 98,
    "start_time": "2024-07-08T14:15:04.818Z"
   },
   {
    "duration": 430,
    "start_time": "2024-07-08T14:30:41.465Z"
   },
   {
    "duration": 26,
    "start_time": "2024-07-08T14:30:55.017Z"
   },
   {
    "duration": 21,
    "start_time": "2024-07-08T14:30:59.039Z"
   },
   {
    "duration": 21,
    "start_time": "2024-07-08T14:31:02.381Z"
   },
   {
    "duration": 23,
    "start_time": "2024-07-08T14:31:04.843Z"
   },
   {
    "duration": 5,
    "start_time": "2024-07-08T15:19:07.422Z"
   },
   {
    "duration": 17,
    "start_time": "2024-07-08T15:19:49.338Z"
   },
   {
    "duration": 25,
    "start_time": "2024-07-08T15:20:31.411Z"
   },
   {
    "duration": 3958,
    "start_time": "2024-07-08T15:36:33.956Z"
   },
   {
    "duration": 1652,
    "start_time": "2024-07-08T15:36:37.918Z"
   },
   {
    "duration": 12,
    "start_time": "2024-07-08T15:36:39.574Z"
   },
   {
    "duration": 13,
    "start_time": "2024-07-08T15:36:39.590Z"
   },
   {
    "duration": 19,
    "start_time": "2024-07-08T15:36:39.606Z"
   },
   {
    "duration": 15,
    "start_time": "2024-07-08T15:36:39.628Z"
   },
   {
    "duration": 5,
    "start_time": "2024-07-08T15:36:39.647Z"
   },
   {
    "duration": 50,
    "start_time": "2024-07-08T15:36:39.655Z"
   },
   {
    "duration": 29,
    "start_time": "2024-07-08T15:36:39.709Z"
   },
   {
    "duration": 4978,
    "start_time": "2024-07-08T15:36:39.744Z"
   },
   {
    "duration": 4,
    "start_time": "2024-07-08T15:36:44.725Z"
   },
   {
    "duration": 7,
    "start_time": "2024-07-08T15:36:44.733Z"
   },
   {
    "duration": 15,
    "start_time": "2024-07-08T15:36:44.744Z"
   },
   {
    "duration": 43,
    "start_time": "2024-07-08T15:36:44.761Z"
   },
   {
    "duration": 22,
    "start_time": "2024-07-08T15:36:44.807Z"
   },
   {
    "duration": 37,
    "start_time": "2024-07-08T15:36:44.833Z"
   },
   {
    "duration": 47,
    "start_time": "2024-07-08T15:36:44.873Z"
   },
   {
    "duration": 38,
    "start_time": "2024-07-08T15:36:44.923Z"
   },
   {
    "duration": 52,
    "start_time": "2024-07-08T15:36:44.964Z"
   },
   {
    "duration": 24,
    "start_time": "2024-07-08T15:36:45.019Z"
   },
   {
    "duration": 9,
    "start_time": "2024-07-08T15:36:45.047Z"
   },
   {
    "duration": 2188,
    "start_time": "2024-07-08T15:36:45.060Z"
   },
   {
    "duration": 5,
    "start_time": "2024-07-08T15:36:47.254Z"
   },
   {
    "duration": 63,
    "start_time": "2024-07-08T15:36:47.263Z"
   },
   {
    "duration": 8,
    "start_time": "2024-07-08T15:36:47.329Z"
   },
   {
    "duration": 6,
    "start_time": "2024-07-08T15:36:47.340Z"
   },
   {
    "duration": 55,
    "start_time": "2024-07-08T15:36:47.349Z"
   },
   {
    "duration": 9,
    "start_time": "2024-07-08T15:36:47.415Z"
   },
   {
    "duration": 6,
    "start_time": "2024-07-08T15:36:47.502Z"
   },
   {
    "duration": 6,
    "start_time": "2024-07-08T15:36:47.512Z"
   },
   {
    "duration": 7,
    "start_time": "2024-07-08T15:36:47.521Z"
   },
   {
    "duration": 8,
    "start_time": "2024-07-08T15:36:47.531Z"
   },
   {
    "duration": 6,
    "start_time": "2024-07-08T15:36:47.602Z"
   },
   {
    "duration": 7,
    "start_time": "2024-07-08T15:36:47.610Z"
   },
   {
    "duration": 81,
    "start_time": "2024-07-08T15:36:47.621Z"
   },
   {
    "duration": 8,
    "start_time": "2024-07-08T15:36:47.706Z"
   },
   {
    "duration": 11,
    "start_time": "2024-07-08T15:36:47.717Z"
   },
   {
    "duration": 70,
    "start_time": "2024-07-08T15:36:47.731Z"
   },
   {
    "duration": 7,
    "start_time": "2024-07-08T15:36:47.805Z"
   },
   {
    "duration": 4,
    "start_time": "2024-07-08T15:36:47.816Z"
   },
   {
    "duration": 92,
    "start_time": "2024-07-08T15:36:47.823Z"
   },
   {
    "duration": 5,
    "start_time": "2024-07-08T15:46:28.180Z"
   },
   {
    "duration": 4064,
    "start_time": "2024-07-08T15:48:22.665Z"
   },
   {
    "duration": 1608,
    "start_time": "2024-07-08T15:48:26.733Z"
   },
   {
    "duration": 11,
    "start_time": "2024-07-08T15:48:28.344Z"
   },
   {
    "duration": 5,
    "start_time": "2024-07-08T15:48:28.359Z"
   },
   {
    "duration": 42,
    "start_time": "2024-07-08T15:48:28.367Z"
   },
   {
    "duration": 16,
    "start_time": "2024-07-08T15:48:28.411Z"
   },
   {
    "duration": 5,
    "start_time": "2024-07-08T15:48:28.429Z"
   },
   {
    "duration": 5,
    "start_time": "2024-07-08T15:48:28.438Z"
   },
   {
    "duration": 70,
    "start_time": "2024-07-08T15:48:28.446Z"
   },
   {
    "duration": 4984,
    "start_time": "2024-07-08T15:48:28.522Z"
   },
   {
    "duration": 4,
    "start_time": "2024-07-08T15:48:33.510Z"
   },
   {
    "duration": 8,
    "start_time": "2024-07-08T15:48:33.517Z"
   },
   {
    "duration": 15,
    "start_time": "2024-07-08T15:48:33.528Z"
   },
   {
    "duration": 13,
    "start_time": "2024-07-08T15:48:33.546Z"
   },
   {
    "duration": 25,
    "start_time": "2024-07-08T15:48:33.601Z"
   },
   {
    "duration": 43,
    "start_time": "2024-07-08T15:48:33.630Z"
   },
   {
    "duration": 23,
    "start_time": "2024-07-08T15:48:33.701Z"
   },
   {
    "duration": 39,
    "start_time": "2024-07-08T15:48:33.728Z"
   },
   {
    "duration": 43,
    "start_time": "2024-07-08T15:48:33.770Z"
   },
   {
    "duration": 22,
    "start_time": "2024-07-08T15:48:33.817Z"
   },
   {
    "duration": 8,
    "start_time": "2024-07-08T15:48:33.843Z"
   },
   {
    "duration": 2074,
    "start_time": "2024-07-08T15:48:33.853Z"
   },
   {
    "duration": 6,
    "start_time": "2024-07-08T15:48:35.929Z"
   },
   {
    "duration": 64,
    "start_time": "2024-07-08T15:48:35.939Z"
   },
   {
    "duration": 10,
    "start_time": "2024-07-08T15:48:36.007Z"
   },
   {
    "duration": 6,
    "start_time": "2024-07-08T15:48:36.020Z"
   },
   {
    "duration": 75,
    "start_time": "2024-07-08T15:48:36.029Z"
   },
   {
    "duration": 4,
    "start_time": "2024-07-08T15:48:36.120Z"
   },
   {
    "duration": 84,
    "start_time": "2024-07-08T15:48:36.127Z"
   },
   {
    "duration": 6,
    "start_time": "2024-07-08T15:48:36.213Z"
   },
   {
    "duration": 8,
    "start_time": "2024-07-08T15:48:36.223Z"
   },
   {
    "duration": 9,
    "start_time": "2024-07-08T15:48:36.234Z"
   },
   {
    "duration": 7,
    "start_time": "2024-07-08T15:48:36.306Z"
   },
   {
    "duration": 6,
    "start_time": "2024-07-08T15:48:36.316Z"
   },
   {
    "duration": 85,
    "start_time": "2024-07-08T15:48:36.325Z"
   },
   {
    "duration": 8,
    "start_time": "2024-07-08T15:48:36.413Z"
   },
   {
    "duration": 12,
    "start_time": "2024-07-08T15:48:36.425Z"
   },
   {
    "duration": 6,
    "start_time": "2024-07-08T15:48:36.505Z"
   },
   {
    "duration": 9,
    "start_time": "2024-07-08T15:48:36.514Z"
   },
   {
    "duration": 79,
    "start_time": "2024-07-08T15:48:36.526Z"
   },
   {
    "duration": 17,
    "start_time": "2024-07-08T15:48:36.608Z"
   },
   {
    "duration": 23,
    "start_time": "2024-07-08T15:55:45.009Z"
   },
   {
    "duration": 17,
    "start_time": "2024-07-08T15:56:40.331Z"
   },
   {
    "duration": 20,
    "start_time": "2024-07-08T15:57:06.331Z"
   },
   {
    "duration": 3996,
    "start_time": "2024-07-08T15:59:16.977Z"
   },
   {
    "duration": 1539,
    "start_time": "2024-07-08T15:59:20.977Z"
   },
   {
    "duration": 12,
    "start_time": "2024-07-08T15:59:22.519Z"
   },
   {
    "duration": 7,
    "start_time": "2024-07-08T15:59:22.534Z"
   },
   {
    "duration": 17,
    "start_time": "2024-07-08T15:59:22.545Z"
   },
   {
    "duration": 42,
    "start_time": "2024-07-08T15:59:22.566Z"
   },
   {
    "duration": 4,
    "start_time": "2024-07-08T15:59:22.614Z"
   },
   {
    "duration": 8,
    "start_time": "2024-07-08T15:59:22.625Z"
   },
   {
    "duration": 36,
    "start_time": "2024-07-08T15:59:22.636Z"
   },
   {
    "duration": 4951,
    "start_time": "2024-07-08T15:59:22.707Z"
   },
   {
    "duration": 5,
    "start_time": "2024-07-08T15:59:27.661Z"
   },
   {
    "duration": 7,
    "start_time": "2024-07-08T15:59:27.669Z"
   },
   {
    "duration": 23,
    "start_time": "2024-07-08T15:59:27.680Z"
   },
   {
    "duration": 15,
    "start_time": "2024-07-08T15:59:27.706Z"
   },
   {
    "duration": 23,
    "start_time": "2024-07-08T15:59:27.724Z"
   },
   {
    "duration": 69,
    "start_time": "2024-07-08T15:59:27.753Z"
   },
   {
    "duration": 23,
    "start_time": "2024-07-08T15:59:27.825Z"
   },
   {
    "duration": 62,
    "start_time": "2024-07-08T15:59:27.851Z"
   },
   {
    "duration": 17,
    "start_time": "2024-07-08T15:59:27.916Z"
   },
   {
    "duration": 24,
    "start_time": "2024-07-08T15:59:27.935Z"
   },
   {
    "duration": 38,
    "start_time": "2024-07-08T15:59:27.963Z"
   },
   {
    "duration": 1986,
    "start_time": "2024-07-08T15:59:28.005Z"
   },
   {
    "duration": 4,
    "start_time": "2024-07-08T15:59:30.001Z"
   },
   {
    "duration": 38,
    "start_time": "2024-07-08T15:59:30.007Z"
   },
   {
    "duration": 9,
    "start_time": "2024-07-08T15:59:30.048Z"
   },
   {
    "duration": 40,
    "start_time": "2024-07-08T15:59:30.061Z"
   },
   {
    "duration": 20,
    "start_time": "2024-07-08T15:59:30.104Z"
   },
   {
    "duration": 70,
    "start_time": "2024-07-08T15:59:30.131Z"
   },
   {
    "duration": 6,
    "start_time": "2024-07-08T15:59:30.204Z"
   },
   {
    "duration": 5,
    "start_time": "2024-07-08T15:59:30.213Z"
   },
   {
    "duration": 82,
    "start_time": "2024-07-08T15:59:30.221Z"
   },
   {
    "duration": 6,
    "start_time": "2024-07-08T15:59:30.306Z"
   },
   {
    "duration": 5,
    "start_time": "2024-07-08T15:59:30.315Z"
   },
   {
    "duration": 82,
    "start_time": "2024-07-08T15:59:30.323Z"
   },
   {
    "duration": 8,
    "start_time": "2024-07-08T15:59:30.409Z"
   },
   {
    "duration": 84,
    "start_time": "2024-07-08T15:59:30.420Z"
   },
   {
    "duration": 6,
    "start_time": "2024-07-08T15:59:30.507Z"
   },
   {
    "duration": 5,
    "start_time": "2024-07-08T15:59:30.516Z"
   },
   {
    "duration": 78,
    "start_time": "2024-07-08T15:59:30.524Z"
   },
   {
    "duration": 6,
    "start_time": "2024-07-08T15:59:30.605Z"
   },
   {
    "duration": 98,
    "start_time": "2024-07-08T15:59:30.614Z"
   },
   {
    "duration": 4123,
    "start_time": "2024-07-08T16:09:44.815Z"
   },
   {
    "duration": 1581,
    "start_time": "2024-07-08T16:09:48.943Z"
   },
   {
    "duration": 12,
    "start_time": "2024-07-08T16:09:50.527Z"
   },
   {
    "duration": 5,
    "start_time": "2024-07-08T16:09:50.544Z"
   },
   {
    "duration": 18,
    "start_time": "2024-07-08T16:09:50.553Z"
   },
   {
    "duration": 42,
    "start_time": "2024-07-08T16:09:50.574Z"
   },
   {
    "duration": 5,
    "start_time": "2024-07-08T16:09:50.619Z"
   },
   {
    "duration": 5,
    "start_time": "2024-07-08T16:09:50.627Z"
   },
   {
    "duration": 74,
    "start_time": "2024-07-08T16:09:50.635Z"
   },
   {
    "duration": 5009,
    "start_time": "2024-07-08T16:09:50.717Z"
   },
   {
    "duration": 4,
    "start_time": "2024-07-08T16:09:55.729Z"
   },
   {
    "duration": 7,
    "start_time": "2024-07-08T16:09:55.736Z"
   },
   {
    "duration": 14,
    "start_time": "2024-07-08T16:09:55.747Z"
   },
   {
    "duration": 40,
    "start_time": "2024-07-08T16:09:55.764Z"
   },
   {
    "duration": 24,
    "start_time": "2024-07-08T16:09:55.809Z"
   },
   {
    "duration": 38,
    "start_time": "2024-07-08T16:09:55.836Z"
   },
   {
    "duration": 26,
    "start_time": "2024-07-08T16:09:55.901Z"
   },
   {
    "duration": 44,
    "start_time": "2024-07-08T16:09:55.930Z"
   },
   {
    "duration": 19,
    "start_time": "2024-07-08T16:09:56.001Z"
   },
   {
    "duration": 22,
    "start_time": "2024-07-08T16:09:56.023Z"
   },
   {
    "duration": 8,
    "start_time": "2024-07-08T16:09:56.047Z"
   },
   {
    "duration": 1994,
    "start_time": "2024-07-08T16:09:56.058Z"
   },
   {
    "duration": 5,
    "start_time": "2024-07-08T16:09:58.057Z"
   },
   {
    "duration": 57,
    "start_time": "2024-07-08T16:09:58.065Z"
   },
   {
    "duration": 7,
    "start_time": "2024-07-08T16:09:58.124Z"
   },
   {
    "duration": 6,
    "start_time": "2024-07-08T16:09:58.134Z"
   },
   {
    "duration": 59,
    "start_time": "2024-07-08T16:09:58.143Z"
   },
   {
    "duration": 5,
    "start_time": "2024-07-08T16:09:58.210Z"
   },
   {
    "duration": 8,
    "start_time": "2024-07-08T16:09:58.218Z"
   },
   {
    "duration": 74,
    "start_time": "2024-07-08T16:09:58.229Z"
   },
   {
    "duration": 7,
    "start_time": "2024-07-08T16:09:58.307Z"
   },
   {
    "duration": 8,
    "start_time": "2024-07-08T16:09:58.318Z"
   },
   {
    "duration": 72,
    "start_time": "2024-07-08T16:09:58.329Z"
   },
   {
    "duration": 8,
    "start_time": "2024-07-08T16:09:58.404Z"
   },
   {
    "duration": 10,
    "start_time": "2024-07-08T16:09:58.415Z"
   },
   {
    "duration": 7,
    "start_time": "2024-07-08T16:09:58.503Z"
   },
   {
    "duration": 9,
    "start_time": "2024-07-08T16:09:58.513Z"
   },
   {
    "duration": 77,
    "start_time": "2024-07-08T16:09:58.524Z"
   },
   {
    "duration": 7,
    "start_time": "2024-07-08T16:09:58.605Z"
   },
   {
    "duration": 5,
    "start_time": "2024-07-08T16:09:58.616Z"
   },
   {
    "duration": 93,
    "start_time": "2024-07-08T16:09:58.624Z"
   },
   {
    "duration": 7,
    "start_time": "2024-07-08T16:12:26.861Z"
   },
   {
    "duration": 10,
    "start_time": "2024-07-08T16:12:36.596Z"
   },
   {
    "duration": 6,
    "start_time": "2024-07-08T16:12:51.253Z"
   },
   {
    "duration": 5,
    "start_time": "2024-07-08T16:13:27.849Z"
   },
   {
    "duration": 3996,
    "start_time": "2024-07-08T16:13:33.530Z"
   },
   {
    "duration": 1037,
    "start_time": "2024-07-08T16:14:07.854Z"
   },
   {
    "duration": 16743,
    "start_time": "2024-07-08T16:14:42.819Z"
   },
   {
    "duration": 2707,
    "start_time": "2024-07-08T16:15:14.174Z"
   },
   {
    "duration": 1762,
    "start_time": "2024-07-08T16:15:16.886Z"
   },
   {
    "duration": 10,
    "start_time": "2024-07-08T16:15:18.651Z"
   },
   {
    "duration": 5,
    "start_time": "2024-07-08T16:15:18.665Z"
   },
   {
    "duration": 39,
    "start_time": "2024-07-08T16:15:18.674Z"
   },
   {
    "duration": 15,
    "start_time": "2024-07-08T16:15:18.716Z"
   },
   {
    "duration": 5,
    "start_time": "2024-07-08T16:15:18.734Z"
   },
   {
    "duration": 6,
    "start_time": "2024-07-08T16:15:18.741Z"
   },
   {
    "duration": 73,
    "start_time": "2024-07-08T16:15:18.750Z"
   },
   {
    "duration": 4973,
    "start_time": "2024-07-08T16:15:18.829Z"
   },
   {
    "duration": 4,
    "start_time": "2024-07-08T16:15:23.805Z"
   },
   {
    "duration": 8,
    "start_time": "2024-07-08T16:15:23.812Z"
   },
   {
    "duration": 15,
    "start_time": "2024-07-08T16:15:23.823Z"
   },
   {
    "duration": 13,
    "start_time": "2024-07-08T16:15:23.841Z"
   },
   {
    "duration": 64,
    "start_time": "2024-07-08T16:15:23.857Z"
   },
   {
    "duration": 38,
    "start_time": "2024-07-08T16:15:23.924Z"
   },
   {
    "duration": 49,
    "start_time": "2024-07-08T16:15:23.964Z"
   },
   {
    "duration": 40,
    "start_time": "2024-07-08T16:15:24.017Z"
   },
   {
    "duration": 46,
    "start_time": "2024-07-08T16:15:24.060Z"
   },
   {
    "duration": 21,
    "start_time": "2024-07-08T16:15:24.109Z"
   },
   {
    "duration": 8,
    "start_time": "2024-07-08T16:15:24.133Z"
   },
   {
    "duration": 1861,
    "start_time": "2024-07-08T16:15:24.144Z"
   },
   {
    "duration": 5,
    "start_time": "2024-07-08T16:15:26.009Z"
   },
   {
    "duration": 38,
    "start_time": "2024-07-08T16:15:26.018Z"
   },
   {
    "duration": 8,
    "start_time": "2024-07-08T16:15:26.059Z"
   },
   {
    "duration": 8,
    "start_time": "2024-07-08T16:15:26.101Z"
   },
   {
    "duration": 20,
    "start_time": "2024-07-08T16:15:26.113Z"
   },
   {
    "duration": 68,
    "start_time": "2024-07-08T16:15:26.140Z"
   },
   {
    "duration": 7,
    "start_time": "2024-07-08T16:15:26.211Z"
   },
   {
    "duration": 85,
    "start_time": "2024-07-08T16:15:26.221Z"
   },
   {
    "duration": 10,
    "start_time": "2024-07-08T16:15:26.310Z"
   },
   {
    "duration": 11,
    "start_time": "2024-07-08T16:15:26.324Z"
   },
   {
    "duration": 63,
    "start_time": "2024-07-08T16:15:26.339Z"
   },
   {
    "duration": 5,
    "start_time": "2024-07-08T16:15:26.406Z"
   },
   {
    "duration": 13,
    "start_time": "2024-07-08T16:15:26.416Z"
   },
   {
    "duration": 9,
    "start_time": "2024-07-08T16:15:26.503Z"
   },
   {
    "duration": 11,
    "start_time": "2024-07-08T16:15:26.515Z"
   },
   {
    "duration": 73,
    "start_time": "2024-07-08T16:15:26.529Z"
   },
   {
    "duration": 9,
    "start_time": "2024-07-08T16:15:26.605Z"
   },
   {
    "duration": 5,
    "start_time": "2024-07-08T16:15:26.617Z"
   },
   {
    "duration": 92,
    "start_time": "2024-07-08T16:15:26.625Z"
   },
   {
    "duration": 16307,
    "start_time": "2024-07-25T17:14:42.149Z"
   },
   {
    "duration": 5159,
    "start_time": "2024-07-25T17:14:58.461Z"
   },
   {
    "duration": 18,
    "start_time": "2024-07-25T17:15:03.622Z"
   },
   {
    "duration": 6,
    "start_time": "2024-07-25T17:15:03.643Z"
   },
   {
    "duration": 22,
    "start_time": "2024-07-25T17:15:03.652Z"
   },
   {
    "duration": 43,
    "start_time": "2024-07-25T17:15:03.677Z"
   },
   {
    "duration": 8,
    "start_time": "2024-07-25T17:15:03.730Z"
   },
   {
    "duration": 6,
    "start_time": "2024-07-25T17:15:03.741Z"
   },
   {
    "duration": 69,
    "start_time": "2024-07-25T17:15:03.750Z"
   },
   {
    "duration": 4882,
    "start_time": "2024-07-25T17:15:03.825Z"
   },
   {
    "duration": 6,
    "start_time": "2024-07-25T17:15:08.709Z"
   },
   {
    "duration": 8,
    "start_time": "2024-07-25T17:15:08.718Z"
   },
   {
    "duration": 15,
    "start_time": "2024-07-25T17:15:08.733Z"
   },
   {
    "duration": 13,
    "start_time": "2024-07-25T17:15:08.751Z"
   },
   {
    "duration": 141,
    "start_time": "2024-07-25T17:15:08.808Z"
   },
   {
    "duration": 37,
    "start_time": "2024-07-25T17:15:08.952Z"
   },
   {
    "duration": 36,
    "start_time": "2024-07-25T17:15:09.009Z"
   },
   {
    "duration": 59,
    "start_time": "2024-07-25T17:15:09.047Z"
   },
   {
    "duration": 21,
    "start_time": "2024-07-25T17:15:09.108Z"
   },
   {
    "duration": 26,
    "start_time": "2024-07-25T17:15:09.132Z"
   },
   {
    "duration": 47,
    "start_time": "2024-07-25T17:15:09.161Z"
   },
   {
    "duration": 2024,
    "start_time": "2024-07-25T17:15:09.211Z"
   },
   {
    "duration": 5,
    "start_time": "2024-07-25T17:15:11.239Z"
   },
   {
    "duration": 66,
    "start_time": "2024-07-25T17:15:11.247Z"
   },
   {
    "duration": 7,
    "start_time": "2024-07-25T17:15:11.316Z"
   },
   {
    "duration": 8,
    "start_time": "2024-07-25T17:15:11.326Z"
   },
   {
    "duration": 19,
    "start_time": "2024-07-25T17:15:11.336Z"
   },
   {
    "duration": 6,
    "start_time": "2024-07-25T17:15:11.410Z"
   },
   {
    "duration": 8,
    "start_time": "2024-07-25T17:15:11.418Z"
   },
   {
    "duration": 6,
    "start_time": "2024-07-25T17:15:11.428Z"
   },
   {
    "duration": 72,
    "start_time": "2024-07-25T17:15:11.437Z"
   },
   {
    "duration": 14,
    "start_time": "2024-07-25T17:15:11.512Z"
   },
   {
    "duration": 6,
    "start_time": "2024-07-25T17:15:11.529Z"
   },
   {
    "duration": 68,
    "start_time": "2024-07-25T17:15:11.539Z"
   },
   {
    "duration": 7,
    "start_time": "2024-07-25T17:15:11.610Z"
   },
   {
    "duration": 12,
    "start_time": "2024-07-25T17:15:11.620Z"
   },
   {
    "duration": 81,
    "start_time": "2024-07-25T17:15:11.635Z"
   },
   {
    "duration": 8,
    "start_time": "2024-07-25T17:15:11.720Z"
   },
   {
    "duration": 77,
    "start_time": "2024-07-25T17:15:11.732Z"
   },
   {
    "duration": 5,
    "start_time": "2024-07-25T17:15:11.812Z"
   },
   {
    "duration": 103,
    "start_time": "2024-07-25T17:15:11.820Z"
   }
  ],
  "kernelspec": {
   "display_name": "Python 3 (ipykernel)",
   "language": "python",
   "name": "python3"
  },
  "language_info": {
   "codemirror_mode": {
    "name": "ipython",
    "version": 3
   },
   "file_extension": ".py",
   "mimetype": "text/x-python",
   "name": "python",
   "nbconvert_exporter": "python",
   "pygments_lexer": "ipython3",
   "version": "3.12.4"
  },
  "toc": {
   "base_numbering": 1,
   "nav_menu": {},
   "number_sections": true,
   "sideBar": true,
   "skip_h1_title": true,
   "title_cell": "Índice",
   "title_sidebar": "Conteúdos ",
   "toc_cell": false,
   "toc_position": {},
   "toc_section_display": true,
   "toc_window_display": false
  }
 },
 "nbformat": 4,
 "nbformat_minor": 4
}
